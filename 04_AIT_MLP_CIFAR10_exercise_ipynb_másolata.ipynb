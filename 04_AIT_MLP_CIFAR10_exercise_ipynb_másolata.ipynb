{
  "nbformat": 4,
  "nbformat_minor": 0,
  "metadata": {
    "anaconda-cloud": {},
    "kernelspec": {
      "display_name": "Python 3",
      "language": "python",
      "name": "python3"
    },
    "language_info": {
      "codemirror_mode": {
        "name": "ipython",
        "version": 3
      },
      "file_extension": ".py",
      "mimetype": "text/x-python",
      "name": "python",
      "nbconvert_exporter": "python",
      "pygments_lexer": "ipython3",
      "version": "3.6.6"
    },
    "colab": {
      "provenance": [],
      "include_colab_link": true
    },
    "accelerator": "GPU"
  },
  "cells": [
    {
      "cell_type": "markdown",
      "metadata": {
        "id": "view-in-github",
        "colab_type": "text"
      },
      "source": [
        "<a href=\"https://colab.research.google.com/github/rimmelb/AITassignment3/blob/main/04_AIT_MLP_CIFAR10_exercise_ipynb_m%C3%A1solata.ipynb\" target=\"_parent\"><img src=\"https://colab.research.google.com/assets/colab-badge.svg\" alt=\"Open In Colab\"/></a>"
      ]
    },
    {
      "cell_type": "markdown",
      "metadata": {
        "id": "cW-EyI5Lxpqi"
      },
      "source": [
        "# Copyright\n",
        "\n",
        "<PRE>\n",
        "Copyright (c) 2024 Bálint Gyires-Tóth - All Rights Reserved\n",
        "You may use and modify this code for research and development purpuses.\n",
        "Using this code for educational purposes (self-paced or instructor led) without the permission of the author is prohibited.\n",
        "</PRE>"
      ]
    },
    {
      "cell_type": "markdown",
      "source": [
        "# Example of data exploration, modeling, regulartion and prediction\n",
        "Our exercise today involves loading a standard dataset using TensorFlow Keras API, exploring the data, building a simple neural network, and evaluating the effects of basic methods (activation functions, regularization, weight initialization, etc.). We then perform predictions on the test set and inspect the results."
      ],
      "metadata": {
        "id": "3EX4cCa4WKJu"
      }
    },
    {
      "cell_type": "markdown",
      "source": [
        "# 1. Data\n",
        "The dataset we will use is the well-known CIFAR10 (Canadian Institute For Advanced Research). Explore the details on the Keras website first: https://keras.io/api/datasets/cifar10/\n",
        "\n",
        "After you explored the basic features of the data, let's load it into the memory and explore the shapes:"
      ],
      "metadata": {
        "id": "yY9fztIeWIKt"
      }
    },
    {
      "cell_type": "code",
      "source": [
        "from tensorflow.keras.datasets import cifar10\n",
        "from tensorflow.keras.utils import to_categorical\n",
        "import numpy as np"
      ],
      "metadata": {
        "id": "giRZKTjzX_7l"
      },
      "execution_count": 1,
      "outputs": []
    },
    {
      "cell_type": "code",
      "source": [
        "(X_train, Y_train), (X_test, Y_test) = cifar10.load_data()"
      ],
      "metadata": {
        "id": "bez7q0eiWQCK",
        "colab": {
          "base_uri": "https://localhost:8080/"
        },
        "outputId": "fce94f56-c01e-409f-e729-9fd2afa9c51e"
      },
      "execution_count": 2,
      "outputs": [
        {
          "output_type": "stream",
          "name": "stdout",
          "text": [
            "Downloading data from https://www.cs.toronto.edu/~kriz/cifar-10-python.tar.gz\n",
            "170498071/170498071 [==============================] - 6s 0us/step\n"
          ]
        }
      ]
    },
    {
      "cell_type": "code",
      "source": [
        "print(X_train.shape)\n",
        "print(X_test.shape)\n",
        "print(Y_train.shape)\n",
        "print(Y_test.shape)"
      ],
      "metadata": {
        "id": "2tJoRq5wXywi",
        "colab": {
          "base_uri": "https://localhost:8080/"
        },
        "outputId": "82fea56c-b7b3-4e7f-b7cc-9afedcae3225"
      },
      "execution_count": 3,
      "outputs": [
        {
          "output_type": "stream",
          "name": "stdout",
          "text": [
            "(50000, 32, 32, 3)\n",
            "(10000, 32, 32, 3)\n",
            "(50000, 1)\n",
            "(10000, 1)\n"
          ]
        }
      ]
    },
    {
      "cell_type": "markdown",
      "source": [
        "## 1.1. Exercise\n",
        "Display the first ten images of the training data. Hints:\n",
        "* Axis 0 refers to the separate images, e.g. X_train[0]\n",
        "* You can use the [Matplotlib Pyplot imshow function](https://matplotlib.org/stable/api/_as_gen/matplotlib.pyplot.imshow.html) for displaying the image. Just don't forget to import Plotly first!\n",
        "* A corresponding example, but you have to modify the code for your purpose: https://stackoverflow.com/questions/46615554/how-to-display-multiple-images-in-one-figure-correctly"
      ],
      "metadata": {
        "id": "zTCSGFyDlNvf"
      }
    },
    {
      "cell_type": "code",
      "source": [
        "import matplotlib.pyplot as plt\n",
        "\n",
        "plt.figure(figsize=(10,10))\n",
        "for i in range(10):\n",
        "    plt.subplot(5,5,i+1)\n",
        "    plt.xticks([])\n",
        "    plt.yticks([])\n",
        "    plt.grid(False)\n",
        "    plt.imshow(X_train[i], cmap=plt.cm.binary)\n",
        "plt.show()"
      ],
      "metadata": {
        "id": "hIQhHTppmBdO",
        "colab": {
          "base_uri": "https://localhost:8080/",
          "height": 329
        },
        "outputId": "125c0adb-4bfa-4f5a-d4af-eba5ae453c75"
      },
      "execution_count": 4,
      "outputs": [
        {
          "output_type": "display_data",
          "data": {
            "text/plain": [
              "<Figure size 1000x1000 with 10 Axes>"
            ],
            "image/png": "[encoded data removed]"
          },
          "metadata": {}
        }
      ]
    },
    {
      "cell_type": "markdown",
      "source": [
        "Print the corresponding labels of the displayed images from the target variable (Y_train):"
      ],
      "metadata": {
        "id": "FAQkUWlmm-bc"
      }
    },
    {
      "cell_type": "code",
      "source": [
        "for i in range(10):\n",
        "  print(Y_train[i])"
      ],
      "metadata": {
        "id": "AkOrWzghnJ78",
        "colab": {
          "base_uri": "https://localhost:8080/"
        },
        "outputId": "73cd1ff8-3c62-41bf-be05-843236c83789"
      },
      "execution_count": 5,
      "outputs": [
        {
          "output_type": "stream",
          "name": "stdout",
          "text": [
            "[6]\n",
            "[9]\n",
            "[9]\n",
            "[4]\n",
            "[1]\n",
            "[1]\n",
            "[2]\n",
            "[7]\n",
            "[8]\n",
            "[3]\n"
          ]
        }
      ]
    },
    {
      "cell_type": "markdown",
      "source": [
        "## 1.2. Exercise\n",
        "We will train a Multi-Layer Perceptron (MLP), which requires a 2 dimensional input: 0th axis refers to the datapoints (i.e. images), the 1th dimens to the input. As images are 3 dimensional (width, height, color channels), you have to reshape the images into vectors. We also call this flattening.\n",
        "\n",
        "In order to do so, calculate the size of the equivalent 1D vector of the image:"
      ],
      "metadata": {
        "id": "VX24g5FstsRU"
      }
    },
    {
      "cell_type": "code",
      "source": [
        "flattened_dim = (X_train.shape[1]*X_train.shape[2]*X_train.shape[3]);"
      ],
      "metadata": {
        "id": "hdoMyxHzuXZG"
      },
      "execution_count": 6,
      "outputs": []
    },
    {
      "cell_type": "markdown",
      "source": [
        "After you calculated it, we can reshape the images, and covert the integer arrays into float arrays -- which are needed for the neural networks as input. Hint:\n",
        "* in the [reshape() function of Numpy](https://www.w3schools.com/python/numpy/numpy_array_reshape.asp) you can use -1 for one axis, to automatically calculate that value."
      ],
      "metadata": {
        "id": "WbqXJUSFubeC"
      }
    },
    {
      "cell_type": "code",
      "source": [
        "# reshape 3D tensors to 2D tensors\n",
        "X_train = X_train.reshape(X_train.shape[0], -1)\n",
        "X_test = X_test.reshape(X_test.shape[0], -1)\n",
        "\n",
        "# it is in int8 format, the neural network requires float32\n",
        "X_train = X_train.astype('float32')\n",
        "X_test = X_test.astype('float32')"
      ],
      "metadata": {
        "id": "vukOcBM0XzSj"
      },
      "execution_count": 7,
      "outputs": []
    },
    {
      "cell_type": "markdown",
      "source": [
        "## 1.3. Exercise\n",
        "As the next step, let's split the training data into training and validation data. 80% of the original training data should be the final training data, and 20% the validation.\n",
        "You should use Numpy indexing to select the first 80% of X_train as final X_train, and the last 20% as X_valid. Hints:\n",
        "* https://datascienceparichay.com/article/numpy-array-first-n-rows/\n",
        "* https://datascienceparichay.com/article/numpy-array-last-n-rows/"
      ],
      "metadata": {
        "id": "DO79AdIdvVfD"
      }
    },
    {
      "cell_type": "code",
      "source": [
        "train_ratio  = 0.8\n",
        "train_length = int(X_train.shape[0] * train_ratio)\n",
        "train_split = X_train.shape[0] - train_length\n",
        "X_valid, Y_valid = X_train[:train_split], Y_train[:train_split]\n",
        "X_train, Y_train = X_train[train_split:], Y_train[train_split:]"
      ],
      "metadata": {
        "id": "mRwuWxxIxLgN"
      },
      "execution_count": 8,
      "outputs": []
    },
    {
      "cell_type": "markdown",
      "source": [
        "## 1.4. Exercise\n",
        "As the last step of input data preparation, the data should be standardized. Calculate the mean and variance of the training data (elementvise -- so for each value of the flattened image you should get a mean and variance for the training data along 0th axis). Hint:\n",
        "* https://stackoverflow.com/questions/70626231/how-to-calculate-mean-variance-standard-deviation-per-index-of-array"
      ],
      "metadata": {
        "id": "z05y_QWDxWER"
      }
    },
    {
      "cell_type": "code",
      "source": [
        "mean = np.mean(X_train)\n",
        "std = np.std(X_train)"
      ],
      "metadata": {
        "id": "TSZbvWCBx8Ea"
      },
      "execution_count": 9,
      "outputs": []
    },
    {
      "cell_type": "markdown",
      "source": [
        "Next, use the resulting values to standardize the training, validation and test data by substracting the mean and dividing the result with the standard deviation."
      ],
      "metadata": {
        "id": "6WRHKkkjyN1S"
      }
    },
    {
      "cell_type": "code",
      "source": [
        "X_train = (X_train - mean) / std\n",
        "X_valid = (X_valid - mean) / std\n",
        "X_test = (X_test - mean) / std"
      ],
      "metadata": {
        "id": "2ESLP1EIyB2J"
      },
      "execution_count": 10,
      "outputs": []
    },
    {
      "cell_type": "markdown",
      "source": [
        "## 1.5. Exercise\n",
        "And as the last step, convert the dense representation of the classes (i.e. 0,1,2,3...9) to one-hot encoding (0 = [1 0 0 0 0 0 0 0 0 0], 1 = [0 1 0 0 0 0 0 0 0 0] ... 9 = [0 0 0 0 0 0 0 0 0 1]). To do this, first, calculate the number of unique elements in the target training data. Hints:\n",
        "* use the [unique() function](https://numpy.org/doc/stable/reference/generated/numpy.unique.html) of Numpy to list the unique elements\n",
        "* you can count the number of elements in a list with the [len() function](https://www.w3schools.com/python/ref_func_len.asp)"
      ],
      "metadata": {
        "id": "ooHCnUin7r4o"
      }
    },
    {
      "cell_type": "code",
      "source": [
        "nb_classes = len(np.unique(Y_train))"
      ],
      "metadata": {
        "id": "i0LAO9cs8KEE"
      },
      "execution_count": 11,
      "outputs": []
    },
    {
      "cell_type": "markdown",
      "source": [
        "Doublecheck, if the same number of classes exists in the validation and test target data:"
      ],
      "metadata": {
        "id": "BvM6XhGe8JU9"
      }
    },
    {
      "cell_type": "code",
      "source": [
        "print(\"Validation data has the same number of classes, as the training data:\", nb_classes == len(np.unique(Y_valid)))\n",
        "print(\"Test data has the same number of classes, as the training data:\", nb_classes == len(np.unique(Y_test)))"
      ],
      "metadata": {
        "id": "eZFNSsyx_Py2",
        "colab": {
          "base_uri": "https://localhost:8080/"
        },
        "outputId": "70a26ff6-d250-4cb8-8051-c6eae3e4b1af"
      },
      "execution_count": 12,
      "outputs": [
        {
          "output_type": "stream",
          "name": "stdout",
          "text": [
            "Validation data has the same number of classes, as the training data: True\n",
            "Test data has the same number of classes, as the training data: True\n"
          ]
        }
      ]
    },
    {
      "cell_type": "markdown",
      "source": [
        "And convert the dense representation into one-hot encoding. Hint:\n",
        "* use the [to_categorical function](https://www.tensorflow.org/api_docs/python/tf/keras/utils/to_categorical) with the calculated nb_classes\n"
      ],
      "metadata": {
        "id": "mJM-iBmR8dLe"
      }
    },
    {
      "cell_type": "code",
      "source": [
        "Y_train = to_categorical(Y_train, num_classes = nb_classes, dtype = 'float32')\n",
        "Y_valid = to_categorical(Y_valid, num_classes = nb_classes, dtype = 'float32')\n",
        "Y_test  = to_categorical(Y_test, num_classes = nb_classes, dtype = 'float32')"
      ],
      "metadata": {
        "id": "xwZ4OJ6I8lba"
      },
      "execution_count": 13,
      "outputs": []
    },
    {
      "cell_type": "markdown",
      "source": [
        "## Final check of data preparation\n",
        "Now, lets check the shapes and mean and standard deviation of the training, validation and test data."
      ],
      "metadata": {
        "id": "LshN2OSsv3TZ"
      }
    },
    {
      "cell_type": "code",
      "source": [
        "print(\"Shapes of the training, validation and test input data:\", X_train.shape, X_valid.shape, X_test.shape)\n",
        "print(\"Shapes of the training, validation and test output data:\", Y_train.shape, Y_valid.shape, Y_test.shape)\n",
        "print(\"Mean values of the training, validation and test input data:\", X_train.mean(), X_valid.mean(), X_test.mean())\n",
        "print(\"Standard deviation of the training, validation and test input data:\", X_train.std(), X_valid.std(), X_test.std())"
      ],
      "metadata": {
        "id": "O_jdJVcvX0vi",
        "colab": {
          "base_uri": "https://localhost:8080/"
        },
        "outputId": "4bdfcf1f-3326-48b2-931c-f2ce5eb903e7"
      },
      "execution_count": 14,
      "outputs": [
        {
          "output_type": "stream",
          "name": "stdout",
          "text": [
            "Shapes of the training, validation and test input data: (40000, 3072) (10000, 3072) (10000, 3072)\n",
            "Shapes of the training, validation and test output data: (40000, 10) (10000, 10) (10000, 10)\n",
            "Mean values of the training, validation and test input data: 3.9108672e-06 0.00650789 0.01412415\n",
            "Standard deviation of the training, validation and test input data: 1.0000006 1.0046989 0.99955535\n"
          ]
        }
      ]
    },
    {
      "cell_type": "markdown",
      "source": [
        "Don't worry, if the mean and standard deviation of the validation and test data are not exactly 0 and 1, but these might be very mear to it (e.g. 0.01 mean, 0.99 variance)."
      ],
      "metadata": {
        "id": "5GtAOOoezmZY"
      }
    },
    {
      "cell_type": "markdown",
      "metadata": {
        "id": "cJ14oyZExpqj"
      },
      "source": [
        "# 2. Training"
      ]
    },
    {
      "cell_type": "markdown",
      "metadata": {
        "id": "s4ZXYRMBxpql"
      },
      "source": [
        "Let us begin with a simple example of creating a small neural network without regularization and training it with actual data. The purpose of this is to provide you with an example as to how to proceed with the next exercise."
      ]
    },
    {
      "cell_type": "code",
      "source": [
        "# imports\n",
        "import numpy as np\n",
        "import matplotlib.pyplot as plt\n",
        "from tensorflow.keras.models import Sequential\n",
        "from tensorflow.keras.layers import Dense, Embedding, Flatten, Dropout\n",
        "from tensorflow.keras.initializers import HeNormal\n",
        "from tensorflow.keras.callbacks import EarlyStopping"
      ],
      "metadata": {
        "id": "6-8Q6ll7ZDgq"
      },
      "execution_count": 15,
      "outputs": []
    },
    {
      "cell_type": "code",
      "source": [
        "# model definition\n",
        "model = Sequential()\n",
        "model.add(Dense(128, activation='tanh', input_shape=(flattened_dim,)))\n",
        "model.add(Dense(128, activation='tanh'))\n",
        "model.add(Dense(nb_classes, activation='softmax'))\n",
        "\n",
        "# loss function and optimizer\n",
        "model.compile(loss='categorical_crossentropy', optimizer='adam', metrics=['accuracy'])"
      ],
      "metadata": {
        "id": "pke6w3CD8DHp"
      },
      "execution_count": 16,
      "outputs": []
    },
    {
      "cell_type": "code",
      "metadata": {
        "id": "CZbOR76QxprC",
        "colab": {
          "base_uri": "https://localhost:8080/"
        },
        "outputId": "909a55df-289b-4615-81ae-424a19cb968a"
      },
      "source": [
        "# training\n",
        "network_history = model.fit(X_train, Y_train,\n",
        "                            validation_data=(X_valid,Y_valid),\n",
        "                            batch_size=128,\n",
        "                            epochs=40,\n",
        "                            verbose=1)"
      ],
      "execution_count": 17,
      "outputs": [
        {
          "output_type": "stream",
          "name": "stdout",
          "text": [
            "Epoch 1/40\n",
            "313/313 [==============================] - 4s 6ms/step - loss: 1.8294 - accuracy: 0.3589 - val_loss: 1.7239 - val_accuracy: 0.3955\n",
            "Epoch 2/40\n",
            "313/313 [==============================] - 2s 5ms/step - loss: 1.6975 - accuracy: 0.4119 - val_loss: 1.6854 - val_accuracy: 0.4092\n",
            "Epoch 3/40\n",
            "313/313 [==============================] - 1s 4ms/step - loss: 1.6369 - accuracy: 0.4335 - val_loss: 1.6594 - val_accuracy: 0.4192\n",
            "Epoch 4/40\n",
            "313/313 [==============================] - 2s 7ms/step - loss: 1.5989 - accuracy: 0.4460 - val_loss: 1.6373 - val_accuracy: 0.4274\n",
            "Epoch 5/40\n",
            "313/313 [==============================] - 2s 5ms/step - loss: 1.5633 - accuracy: 0.4575 - val_loss: 1.6376 - val_accuracy: 0.4267\n",
            "Epoch 6/40\n",
            "313/313 [==============================] - 2s 5ms/step - loss: 1.5264 - accuracy: 0.4701 - val_loss: 1.6185 - val_accuracy: 0.4369\n",
            "Epoch 7/40\n",
            "313/313 [==============================] - 1s 4ms/step - loss: 1.4963 - accuracy: 0.4809 - val_loss: 1.5974 - val_accuracy: 0.4434\n",
            "Epoch 8/40\n",
            "313/313 [==============================] - 2s 5ms/step - loss: 1.4661 - accuracy: 0.4910 - val_loss: 1.5984 - val_accuracy: 0.4384\n",
            "Epoch 9/40\n",
            "313/313 [==============================] - 2s 5ms/step - loss: 1.4454 - accuracy: 0.4966 - val_loss: 1.5835 - val_accuracy: 0.4479\n",
            "Epoch 10/40\n",
            "313/313 [==============================] - 1s 5ms/step - loss: 1.4261 - accuracy: 0.5060 - val_loss: 1.5903 - val_accuracy: 0.4468\n",
            "Epoch 11/40\n",
            "313/313 [==============================] - 1s 4ms/step - loss: 1.3990 - accuracy: 0.5148 - val_loss: 1.5744 - val_accuracy: 0.4524\n",
            "Epoch 12/40\n",
            "313/313 [==============================] - 2s 7ms/step - loss: 1.3778 - accuracy: 0.5203 - val_loss: 1.5797 - val_accuracy: 0.4503\n",
            "Epoch 13/40\n",
            "313/313 [==============================] - 2s 5ms/step - loss: 1.3607 - accuracy: 0.5243 - val_loss: 1.5693 - val_accuracy: 0.4574\n",
            "Epoch 14/40\n",
            "313/313 [==============================] - 1s 5ms/step - loss: 1.3302 - accuracy: 0.5356 - val_loss: 1.5658 - val_accuracy: 0.4536\n",
            "Epoch 15/40\n",
            "313/313 [==============================] - 1s 4ms/step - loss: 1.3199 - accuracy: 0.5408 - val_loss: 1.5671 - val_accuracy: 0.4568\n",
            "Epoch 16/40\n",
            "313/313 [==============================] - 1s 4ms/step - loss: 1.2949 - accuracy: 0.5501 - val_loss: 1.5631 - val_accuracy: 0.4617\n",
            "Epoch 17/40\n",
            "313/313 [==============================] - 1s 5ms/step - loss: 1.2712 - accuracy: 0.5572 - val_loss: 1.5686 - val_accuracy: 0.4600\n",
            "Epoch 18/40\n",
            "313/313 [==============================] - 1s 5ms/step - loss: 1.2556 - accuracy: 0.5626 - val_loss: 1.5669 - val_accuracy: 0.4599\n",
            "Epoch 19/40\n",
            "313/313 [==============================] - 2s 5ms/step - loss: 1.2403 - accuracy: 0.5679 - val_loss: 1.5710 - val_accuracy: 0.4582\n",
            "Epoch 20/40\n",
            "313/313 [==============================] - 2s 6ms/step - loss: 1.2113 - accuracy: 0.5786 - val_loss: 1.5718 - val_accuracy: 0.4638\n",
            "Epoch 21/40\n",
            "313/313 [==============================] - 2s 5ms/step - loss: 1.1998 - accuracy: 0.5827 - val_loss: 1.5943 - val_accuracy: 0.4567\n",
            "Epoch 22/40\n",
            "313/313 [==============================] - 2s 5ms/step - loss: 1.1864 - accuracy: 0.5845 - val_loss: 1.5890 - val_accuracy: 0.4632\n",
            "Epoch 23/40\n",
            "313/313 [==============================] - 1s 4ms/step - loss: 1.1690 - accuracy: 0.5957 - val_loss: 1.5765 - val_accuracy: 0.4682\n",
            "Epoch 24/40\n",
            "313/313 [==============================] - 1s 5ms/step - loss: 1.1505 - accuracy: 0.5968 - val_loss: 1.5895 - val_accuracy: 0.4645\n",
            "Epoch 25/40\n",
            "313/313 [==============================] - 1s 5ms/step - loss: 1.1344 - accuracy: 0.6054 - val_loss: 1.5801 - val_accuracy: 0.4585\n",
            "Epoch 26/40\n",
            "313/313 [==============================] - 2s 5ms/step - loss: 1.1127 - accuracy: 0.6144 - val_loss: 1.6136 - val_accuracy: 0.4624\n",
            "Epoch 27/40\n",
            "313/313 [==============================] - 1s 4ms/step - loss: 1.0964 - accuracy: 0.6226 - val_loss: 1.5962 - val_accuracy: 0.4699\n",
            "Epoch 28/40\n",
            "313/313 [==============================] - 2s 6ms/step - loss: 1.0839 - accuracy: 0.6214 - val_loss: 1.6163 - val_accuracy: 0.4612\n",
            "Epoch 29/40\n",
            "313/313 [==============================] - 2s 6ms/step - loss: 1.0824 - accuracy: 0.6230 - val_loss: 1.6221 - val_accuracy: 0.4632\n",
            "Epoch 30/40\n",
            "313/313 [==============================] - 1s 5ms/step - loss: 1.0478 - accuracy: 0.6377 - val_loss: 1.6335 - val_accuracy: 0.4599\n",
            "Epoch 31/40\n",
            "313/313 [==============================] - 1s 5ms/step - loss: 1.0294 - accuracy: 0.6449 - val_loss: 1.6278 - val_accuracy: 0.4667\n",
            "Epoch 32/40\n",
            "313/313 [==============================] - 1s 5ms/step - loss: 1.0203 - accuracy: 0.6475 - val_loss: 1.6574 - val_accuracy: 0.4560\n",
            "Epoch 33/40\n",
            "313/313 [==============================] - 1s 5ms/step - loss: 1.0090 - accuracy: 0.6527 - val_loss: 1.6623 - val_accuracy: 0.4596\n",
            "Epoch 34/40\n",
            "313/313 [==============================] - 2s 5ms/step - loss: 0.9927 - accuracy: 0.6562 - val_loss: 1.6668 - val_accuracy: 0.4622\n",
            "Epoch 35/40\n",
            "313/313 [==============================] - 2s 5ms/step - loss: 0.9831 - accuracy: 0.6609 - val_loss: 1.6794 - val_accuracy: 0.4567\n",
            "Epoch 36/40\n",
            "313/313 [==============================] - 2s 6ms/step - loss: 0.9599 - accuracy: 0.6694 - val_loss: 1.6840 - val_accuracy: 0.4606\n",
            "Epoch 37/40\n",
            "313/313 [==============================] - 2s 6ms/step - loss: 0.9525 - accuracy: 0.6713 - val_loss: 1.6903 - val_accuracy: 0.4592\n",
            "Epoch 38/40\n",
            "313/313 [==============================] - 2s 5ms/step - loss: 0.9473 - accuracy: 0.6728 - val_loss: 1.7072 - val_accuracy: 0.4558\n",
            "Epoch 39/40\n",
            "313/313 [==============================] - 2s 5ms/step - loss: 0.9294 - accuracy: 0.6803 - val_loss: 1.7257 - val_accuracy: 0.4533\n",
            "Epoch 40/40\n",
            "313/313 [==============================] - 1s 5ms/step - loss: 0.9117 - accuracy: 0.6867 - val_loss: 1.7344 - val_accuracy: 0.4517\n"
          ]
        }
      ]
    },
    {
      "cell_type": "markdown",
      "metadata": {
        "id": "uFqhzV85xprJ"
      },
      "source": [
        "Let's plot the training and validation loss and accuracy curves:"
      ]
    },
    {
      "cell_type": "code",
      "metadata": {
        "id": "BYmXGkLCxprK",
        "colab": {
          "base_uri": "https://localhost:8080/",
          "height": 884
        },
        "outputId": "b94764ad-8671-44e7-9354-c4a4b1991725"
      },
      "source": [
        "def plot_history(network_history):\n",
        "    plt.figure()\n",
        "    plt.xlabel('Epochs')\n",
        "    plt.ylabel('Loss')\n",
        "    plt.plot(network_history.history['loss'])\n",
        "    plt.plot(network_history.history['val_loss'])\n",
        "    plt.legend(['Training', 'Validation'])\n",
        "\n",
        "    plt.figure()\n",
        "    plt.xlabel('Epochs')\n",
        "    plt.ylabel('Accuracy')\n",
        "    plt.plot(network_history.history['accuracy'])\n",
        "    plt.plot(network_history.history['val_accuracy'])\n",
        "    plt.legend(['Training', 'Validation'], loc='lower right')\n",
        "    plt.show()\n",
        "\n",
        "plot_history(network_history)"
      ],
      "execution_count": 18,
      "outputs": [
        {
          "output_type": "display_data",
          "data": {
            "text/plain": [
              "<Figure size 640x480 with 1 Axes>"
            ],
            "image/png": "[encoded data removed]"
          },
          "metadata": {}
        },
        {
          "output_type": "display_data",
          "data": {
            "text/plain": [
              "<Figure size 640x480 with 1 Axes>"
            ],
            "image/png": "[encoded data removed]"
          },
          "metadata": {}
        }
      ]
    },
    {
      "cell_type": "markdown",
      "source": [
        "What do you think? Does it overfit?"
      ],
      "metadata": {
        "id": "tgG7QeXF-dx6"
      }
    },
    {
      "cell_type": "markdown",
      "metadata": {
        "id": "_Q9rIeBBxprO"
      },
      "source": [
        "# Inspecting the model"
      ]
    },
    {
      "cell_type": "code",
      "metadata": {
        "id": "6r2AmmoMxprP",
        "colab": {
          "base_uri": "https://localhost:8080/"
        },
        "outputId": "c65847cf-0f33-401d-ac46-c7ef829626d1"
      },
      "source": [
        "model.summary()"
      ],
      "execution_count": 19,
      "outputs": [
        {
          "output_type": "stream",
          "name": "stdout",
          "text": [
            "Model: \"sequential\"\n",
            "_________________________________________________________________\n",
            " Layer (type)                Output Shape              Param #   \n",
            "=================================================================\n",
            " dense (Dense)               (None, 128)               393344    \n",
            "                                                                 \n",
            " dense_1 (Dense)             (None, 128)               16512     \n",
            "                                                                 \n",
            " dense_2 (Dense)             (None, 10)                1290      \n",
            "                                                                 \n",
            "=================================================================\n",
            "Total params: 411146 (1.57 MB)\n",
            "Trainable params: 411146 (1.57 MB)\n",
            "Non-trainable params: 0 (0.00 Byte)\n",
            "_________________________________________________________________\n"
          ]
        }
      ]
    },
    {
      "cell_type": "code",
      "metadata": {
        "id": "D3-bVDVuxprS",
        "colab": {
          "base_uri": "https://localhost:8080/"
        },
        "outputId": "ddbb2592-4152-45b8-b8d3-e514e6759794"
      },
      "source": [
        "print('Input: ', model.input)"
      ],
      "execution_count": 20,
      "outputs": [
        {
          "output_type": "stream",
          "name": "stdout",
          "text": [
            "Input:  KerasTensor(type_spec=TensorSpec(shape=(None, 3072), dtype=tf.float32, name='dense_input'), name='dense_input', description=\"created by layer 'dense_input'\")\n"
          ]
        }
      ]
    },
    {
      "cell_type": "code",
      "metadata": {
        "id": "Da2OJ3DmxprX",
        "colab": {
          "base_uri": "https://localhost:8080/"
        },
        "outputId": "e20710a0-4c74-441f-ecd6-b4e41edfc67d"
      },
      "source": [
        "print('Layers:\\n')\n",
        "for layer in model.layers:\n",
        "    print(\"Layer's name: \", layer.name, ', trainable: ', layer.trainable)\n",
        "    print(layer.get_config(),'\\n')"
      ],
      "execution_count": 21,
      "outputs": [
        {
          "output_type": "stream",
          "name": "stdout",
          "text": [
            "Layers:\n",
            "\n",
            "Layer's name:  dense , trainable:  True\n",
            "{'name': 'dense', 'trainable': True, 'dtype': 'float32', 'batch_input_shape': (None, 3072), 'units': 128, 'activation': 'tanh', 'use_bias': True, 'kernel_initializer': {'module': 'keras.initializers', 'class_name': 'GlorotUniform', 'config': {'seed': None}, 'registered_name': None}, 'bias_initializer': {'module': 'keras.initializers', 'class_name': 'Zeros', 'config': {}, 'registered_name': None}, 'kernel_regularizer': None, 'bias_regularizer': None, 'activity_regularizer': None, 'kernel_constraint': None, 'bias_constraint': None} \n",
            "\n",
            "Layer's name:  dense_1 , trainable:  True\n",
            "{'name': 'dense_1', 'trainable': True, 'dtype': 'float32', 'units': 128, 'activation': 'tanh', 'use_bias': True, 'kernel_initializer': {'module': 'keras.initializers', 'class_name': 'GlorotUniform', 'config': {'seed': None}, 'registered_name': None}, 'bias_initializer': {'module': 'keras.initializers', 'class_name': 'Zeros', 'config': {}, 'registered_name': None}, 'kernel_regularizer': None, 'bias_regularizer': None, 'activity_regularizer': None, 'kernel_constraint': None, 'bias_constraint': None} \n",
            "\n",
            "Layer's name:  dense_2 , trainable:  True\n",
            "{'name': 'dense_2', 'trainable': True, 'dtype': 'float32', 'units': 10, 'activation': 'softmax', 'use_bias': True, 'kernel_initializer': {'module': 'keras.initializers', 'class_name': 'GlorotUniform', 'config': {'seed': None}, 'registered_name': None}, 'bias_initializer': {'module': 'keras.initializers', 'class_name': 'Zeros', 'config': {}, 'registered_name': None}, 'kernel_regularizer': None, 'bias_regularizer': None, 'activity_regularizer': None, 'kernel_constraint': None, 'bias_constraint': None} \n",
            "\n"
          ]
        }
      ]
    },
    {
      "cell_type": "code",
      "metadata": {
        "id": "AtVX3M3lxprc",
        "colab": {
          "base_uri": "https://localhost:8080/"
        },
        "outputId": "2cdd0fa7-aa96-4da4-8c79-038d1da37387"
      },
      "source": [
        "print('Output: ', model.output)"
      ],
      "execution_count": 22,
      "outputs": [
        {
          "output_type": "stream",
          "name": "stdout",
          "text": [
            "Output:  KerasTensor(type_spec=TensorSpec(shape=(None, 10), dtype=tf.float32, name=None), name='dense_2/Softmax:0', description=\"created by layer 'dense_2'\")\n"
          ]
        }
      ]
    },
    {
      "cell_type": "markdown",
      "source": [
        "## 2.1. Exercise\n",
        "Introduce [early stopping](https://www.tensorflow.org/api_docs/python/tf/keras/callbacks/EarlyStopping) and [dropout](https://www.tensorflow.org/api_docs/python/tf/keras/layers/Dropout) with a rate between 0.1..0.5. Tips:\n",
        "\n",
        "* Insert the dropout layer between the two Dense layers.\n",
        "* Set the patience of early stopping to 5.\n",
        "* Set the number of epochs to a very high number.\n",
        "* Don't forget to restore best weights after early stopping.\n",
        "* And also set early stopping to monitor validation accuracy (the default value is validation loss -- which is categorical crossentropy now).\n",
        "\n",
        "Compile and train the model. Attempt to increase the validation accuracy as much as possible by making changes to the dropout rate. Inspect the effects of the modifications."
      ],
      "metadata": {
        "id": "E-hHfs9qA_iO"
      }
    },
    {
      "cell_type": "code",
      "source": [
        "from tensorflow import keras\n",
        "\n",
        "es = EarlyStopping(monitor='val_accuracy', patience=5, restore_best_weights=True)"
      ],
      "metadata": {
        "id": "NwXrPzOgEBG-"
      },
      "execution_count": 23,
      "outputs": []
    },
    {
      "cell_type": "code",
      "source": [
        "# model definition with dropout\n",
        "dropout_rate = 0.3\n",
        "model = Sequential()\n",
        "model.add(Dense(128, activation='tanh', input_shape=(flattened_dim,)))\n",
        "model.add(Dropout(dropout_rate))\n",
        "model.add(Dense(128, activation='tanh'))\n",
        "model.add(Dense(nb_classes, activation='softmax'))\n",
        "\n",
        "# loss function and optimizer\n",
        "model.compile(loss='categorical_crossentropy', optimizer='adam', metrics=['accuracy'])"
      ],
      "metadata": {
        "id": "7hZEGzj8GFwP"
      },
      "execution_count": 24,
      "outputs": []
    },
    {
      "cell_type": "code",
      "source": [
        "network_history = model.fit(X_train, Y_train,\n",
        "                            validation_data=(X_valid,Y_valid),\n",
        "                            batch_size=128,\n",
        "                            epochs=100,\n",
        "                            verbose=1,\n",
        "                            callbacks=[es])"
      ],
      "metadata": {
        "id": "GCG54R-vGGWj",
        "colab": {
          "base_uri": "https://localhost:8080/"
        },
        "outputId": "4a9d4f8f-27ed-4ff9-dd20-a90bb6842a45"
      },
      "execution_count": 25,
      "outputs": [
        {
          "output_type": "stream",
          "name": "stdout",
          "text": [
            "Epoch 1/100\n",
            "313/313 [==============================] - 4s 6ms/step - loss: 1.8956 - accuracy: 0.3302 - val_loss: 1.7585 - val_accuracy: 0.3767\n",
            "Epoch 2/100\n",
            "313/313 [==============================] - 2s 6ms/step - loss: 1.7872 - accuracy: 0.3699 - val_loss: 1.7057 - val_accuracy: 0.3971\n",
            "Epoch 3/100\n",
            "313/313 [==============================] - 1s 4ms/step - loss: 1.7424 - accuracy: 0.3916 - val_loss: 1.6619 - val_accuracy: 0.4179\n",
            "Epoch 4/100\n",
            "313/313 [==============================] - 1s 5ms/step - loss: 1.7107 - accuracy: 0.4022 - val_loss: 1.6482 - val_accuracy: 0.4199\n",
            "Epoch 5/100\n",
            "313/313 [==============================] - 1s 5ms/step - loss: 1.6897 - accuracy: 0.4102 - val_loss: 1.6477 - val_accuracy: 0.4183\n",
            "Epoch 6/100\n",
            "313/313 [==============================] - 1s 5ms/step - loss: 1.6696 - accuracy: 0.4184 - val_loss: 1.6182 - val_accuracy: 0.4275\n",
            "Epoch 7/100\n",
            "313/313 [==============================] - 2s 5ms/step - loss: 1.6512 - accuracy: 0.4237 - val_loss: 1.6228 - val_accuracy: 0.4314\n",
            "Epoch 8/100\n",
            "313/313 [==============================] - 1s 5ms/step - loss: 1.6294 - accuracy: 0.4324 - val_loss: 1.5985 - val_accuracy: 0.4361\n",
            "Epoch 9/100\n",
            "313/313 [==============================] - 2s 5ms/step - loss: 1.6134 - accuracy: 0.4355 - val_loss: 1.5898 - val_accuracy: 0.4419\n",
            "Epoch 10/100\n",
            "313/313 [==============================] - 2s 6ms/step - loss: 1.5967 - accuracy: 0.4406 - val_loss: 1.5853 - val_accuracy: 0.4411\n",
            "Epoch 11/100\n",
            "313/313 [==============================] - 2s 5ms/step - loss: 1.5838 - accuracy: 0.4450 - val_loss: 1.5763 - val_accuracy: 0.4491\n",
            "Epoch 12/100\n",
            "313/313 [==============================] - 1s 5ms/step - loss: 1.5695 - accuracy: 0.4490 - val_loss: 1.5538 - val_accuracy: 0.4557\n",
            "Epoch 13/100\n",
            "313/313 [==============================] - 2s 5ms/step - loss: 1.5564 - accuracy: 0.4576 - val_loss: 1.5443 - val_accuracy: 0.4579\n",
            "Epoch 14/100\n",
            "313/313 [==============================] - 2s 5ms/step - loss: 1.5420 - accuracy: 0.4581 - val_loss: 1.5384 - val_accuracy: 0.4598\n",
            "Epoch 15/100\n",
            "313/313 [==============================] - 1s 5ms/step - loss: 1.5292 - accuracy: 0.4640 - val_loss: 1.5308 - val_accuracy: 0.4630\n",
            "Epoch 16/100\n",
            "313/313 [==============================] - 2s 5ms/step - loss: 1.5194 - accuracy: 0.4674 - val_loss: 1.5239 - val_accuracy: 0.4666\n",
            "Epoch 17/100\n",
            "313/313 [==============================] - 2s 5ms/step - loss: 1.5146 - accuracy: 0.4685 - val_loss: 1.5269 - val_accuracy: 0.4625\n",
            "Epoch 18/100\n",
            "313/313 [==============================] - 2s 6ms/step - loss: 1.5075 - accuracy: 0.4709 - val_loss: 1.5208 - val_accuracy: 0.4734\n",
            "Epoch 19/100\n",
            "313/313 [==============================] - 1s 4ms/step - loss: 1.4935 - accuracy: 0.4755 - val_loss: 1.5157 - val_accuracy: 0.4681\n",
            "Epoch 20/100\n",
            "313/313 [==============================] - 2s 5ms/step - loss: 1.4931 - accuracy: 0.4737 - val_loss: 1.5044 - val_accuracy: 0.4718\n",
            "Epoch 21/100\n",
            "313/313 [==============================] - 2s 5ms/step - loss: 1.4815 - accuracy: 0.4784 - val_loss: 1.5009 - val_accuracy: 0.4715\n",
            "Epoch 22/100\n",
            "313/313 [==============================] - 2s 5ms/step - loss: 1.4706 - accuracy: 0.4791 - val_loss: 1.5022 - val_accuracy: 0.4708\n",
            "Epoch 23/100\n",
            "313/313 [==============================] - 2s 5ms/step - loss: 1.4621 - accuracy: 0.4843 - val_loss: 1.4865 - val_accuracy: 0.4716\n"
          ]
        }
      ]
    },
    {
      "cell_type": "markdown",
      "source": [
        "## 2.2 Exercise\n",
        "Change the [activation function of the dense layers (except the last one)](https://www.tensorflow.org/api_docs/python/tf/keras/layers/Dense) to rectified linear unit (ReLU) and the [weight initialization](https://www.tensorflow.org/api_docs/python/tf/keras/initializers) to the theoretically best one. Use the original model's code.\n",
        "\n",
        "Compile and train the model. Inspect the effects of the modifications."
      ],
      "metadata": {
        "id": "zQCDM1o1BBtF"
      }
    },
    {
      "cell_type": "code",
      "source": [
        "# model definition with relu\n",
        "model = Sequential()\n",
        "model.add(Dense(128, activation='relu', kernel_initializer = HeNormal(), input_shape=(flattened_dim,)))\n",
        "model.add(Dense(128, activation='relu'))\n",
        "model.add(Dense(nb_classes, activation='softmax'))\n",
        "\n",
        "# loss function and optimizer\n",
        "model.compile(loss='categorical_crossentropy', optimizer='adam', metrics=['accuracy'])"
      ],
      "metadata": {
        "id": "YjHAAh-wGu9O"
      },
      "execution_count": 28,
      "outputs": []
    },
    {
      "cell_type": "code",
      "source": [
        "# training\n",
        "network_history = model.fit(X_train, Y_train,\n",
        "                            validation_data=(X_valid,Y_valid),\n",
        "                            batch_size=128,\n",
        "                            epochs=40,\n",
        "                            verbose=1,\n",
        "                            callbacks = [es]\n",
        "                            )"
      ],
      "metadata": {
        "id": "rarwKM1wGxMz",
        "colab": {
          "base_uri": "https://localhost:8080/"
        },
        "outputId": "967376dd-5208-4caf-d5de-efaf278337e3"
      },
      "execution_count": 29,
      "outputs": [
        {
          "output_type": "stream",
          "name": "stdout",
          "text": [
            "Epoch 1/40\n",
            "313/313 [==============================] - 3s 7ms/step - loss: 1.7565 - accuracy: 0.3880 - val_loss: 1.5896 - val_accuracy: 0.4456\n",
            "Epoch 2/40\n",
            "313/313 [==============================] - 2s 7ms/step - loss: 1.5149 - accuracy: 0.4679 - val_loss: 1.5342 - val_accuracy: 0.4637\n",
            "Epoch 3/40\n",
            "313/313 [==============================] - 2s 5ms/step - loss: 1.4067 - accuracy: 0.5086 - val_loss: 1.5287 - val_accuracy: 0.4738\n",
            "Epoch 4/40\n",
            "313/313 [==============================] - 1s 5ms/step - loss: 1.3229 - accuracy: 0.5350 - val_loss: 1.4839 - val_accuracy: 0.4876\n",
            "Epoch 5/40\n",
            "313/313 [==============================] - 2s 5ms/step - loss: 1.2618 - accuracy: 0.5587 - val_loss: 1.4644 - val_accuracy: 0.4956\n",
            "Epoch 6/40\n",
            "313/313 [==============================] - 1s 5ms/step - loss: 1.2016 - accuracy: 0.5786 - val_loss: 1.4716 - val_accuracy: 0.4978\n",
            "Epoch 7/40\n",
            "313/313 [==============================] - 2s 5ms/step - loss: 1.1410 - accuracy: 0.6012 - val_loss: 1.4669 - val_accuracy: 0.4967\n",
            "Epoch 8/40\n",
            "313/313 [==============================] - 1s 5ms/step - loss: 1.0915 - accuracy: 0.6154 - val_loss: 1.4940 - val_accuracy: 0.5006\n",
            "Epoch 9/40\n",
            "313/313 [==============================] - 2s 6ms/step - loss: 1.0462 - accuracy: 0.6338 - val_loss: 1.4917 - val_accuracy: 0.5024\n",
            "Epoch 10/40\n",
            "313/313 [==============================] - 2s 6ms/step - loss: 1.0002 - accuracy: 0.6486 - val_loss: 1.5177 - val_accuracy: 0.5029\n",
            "Epoch 11/40\n",
            "313/313 [==============================] - 1s 5ms/step - loss: 0.9628 - accuracy: 0.6611 - val_loss: 1.5546 - val_accuracy: 0.5041\n",
            "Epoch 12/40\n",
            "313/313 [==============================] - 1s 5ms/step - loss: 0.9206 - accuracy: 0.6756 - val_loss: 1.5772 - val_accuracy: 0.5019\n",
            "Epoch 13/40\n",
            "313/313 [==============================] - 2s 5ms/step - loss: 0.8799 - accuracy: 0.6912 - val_loss: 1.6000 - val_accuracy: 0.5024\n",
            "Epoch 14/40\n",
            "313/313 [==============================] - 2s 5ms/step - loss: 0.8351 - accuracy: 0.7062 - val_loss: 1.6723 - val_accuracy: 0.5024\n",
            "Epoch 15/40\n",
            "313/313 [==============================] - 2s 5ms/step - loss: 0.8118 - accuracy: 0.7129 - val_loss: 1.6931 - val_accuracy: 0.4982\n",
            "Epoch 16/40\n",
            "313/313 [==============================] - 2s 5ms/step - loss: 0.7737 - accuracy: 0.7305 - val_loss: 1.7201 - val_accuracy: 0.5037\n"
          ]
        }
      ]
    },
    {
      "cell_type": "markdown",
      "source": [
        "# 2.3. Exercise\n",
        "Based on the modifications above, and by any further modifications (e.g. more layers, less layers, more neurons/layer, etc.) to the model design, find a combination that is able to achieve **validation accuracy, that is higher than 53%**.\n"
      ],
      "metadata": {
        "id": "j1tGVPdD-pp3"
      }
    },
    {
      "cell_type": "code",
      "source": [
        "es = EarlyStopping(monitor='val_accuracy', patience=8, restore_best_weights=True)"
      ],
      "metadata": {
        "id": "5dBQxJHIHrbd"
      },
      "execution_count": 30,
      "outputs": []
    },
    {
      "cell_type": "code",
      "source": [
        "# model definition\n",
        "dropout_rate = 0.3\n",
        "model = Sequential()\n",
        "model.add(Dense(128, activation='selu', kernel_initializer = 'lecun_normal', input_shape=(flattened_dim,)))\n",
        "model.add(Dropout(dropout_rate))\n",
        "model.add(Dense(128, activation='selu', kernel_initializer = 'lecun_normal'))\n",
        "model.add(Dropout(dropout_rate))\n",
        "model.add(Dense(128, activation='selu', kernel_initializer = 'lecun_normal'))\n",
        "model.add(Dense(nb_classes, activation='softmax'))\n",
        "\n",
        "\n",
        "# loss function and optimizer\n",
        "model.compile(loss='categorical_crossentropy', optimizer='adam', metrics=['accuracy'])"
      ],
      "metadata": {
        "id": "PuxHOqLt-3Nd"
      },
      "execution_count": 33,
      "outputs": []
    },
    {
      "cell_type": "code",
      "source": [
        "# training\n",
        "network_history = model.fit(X_train, Y_train,\n",
        "                            validation_data=(X_valid,Y_valid),\n",
        "                            batch_size=128,\n",
        "                            epochs=100,\n",
        "                            verbose=1,\n",
        "                            callbacks=[es])"
      ],
      "metadata": {
        "id": "u8tFNCNVHyt9",
        "colab": {
          "base_uri": "https://localhost:8080/"
        },
        "outputId": "8ca81daa-b640-4fca-d11b-f37fe8aa9cea"
      },
      "execution_count": 34,
      "outputs": [
        {
          "output_type": "stream",
          "name": "stdout",
          "text": [
            "Epoch 1/100\n",
            "313/313 [==============================] - 4s 9ms/step - loss: 2.1366 - accuracy: 0.2986 - val_loss: 1.6700 - val_accuracy: 0.4003\n",
            "Epoch 2/100\n",
            "313/313 [==============================] - 2s 5ms/step - loss: 1.8056 - accuracy: 0.3618 - val_loss: 1.5642 - val_accuracy: 0.4415\n",
            "Epoch 3/100\n",
            "313/313 [==============================] - 2s 5ms/step - loss: 1.6941 - accuracy: 0.3952 - val_loss: 1.5167 - val_accuracy: 0.4583\n",
            "Epoch 4/100\n",
            "313/313 [==============================] - 2s 5ms/step - loss: 1.6207 - accuracy: 0.4209 - val_loss: 1.4738 - val_accuracy: 0.4697\n",
            "Epoch 5/100\n",
            "313/313 [==============================] - 2s 5ms/step - loss: 1.5636 - accuracy: 0.4415 - val_loss: 1.4491 - val_accuracy: 0.4797\n",
            "Epoch 6/100\n",
            "313/313 [==============================] - 2s 5ms/step - loss: 1.5230 - accuracy: 0.4548 - val_loss: 1.4257 - val_accuracy: 0.4895\n",
            "Epoch 7/100\n",
            "313/313 [==============================] - 2s 5ms/step - loss: 1.4925 - accuracy: 0.4654 - val_loss: 1.3970 - val_accuracy: 0.5007\n",
            "Epoch 8/100\n",
            "313/313 [==============================] - 2s 7ms/step - loss: 1.4702 - accuracy: 0.4757 - val_loss: 1.3823 - val_accuracy: 0.5005\n",
            "Epoch 9/100\n",
            "313/313 [==============================] - 2s 5ms/step - loss: 1.4450 - accuracy: 0.4822 - val_loss: 1.3862 - val_accuracy: 0.5077\n",
            "Epoch 10/100\n",
            "313/313 [==============================] - 2s 5ms/step - loss: 1.4235 - accuracy: 0.4904 - val_loss: 1.3810 - val_accuracy: 0.5076\n",
            "Epoch 11/100\n",
            "313/313 [==============================] - 2s 5ms/step - loss: 1.4002 - accuracy: 0.4986 - val_loss: 1.3663 - val_accuracy: 0.5090\n",
            "Epoch 12/100\n",
            "313/313 [==============================] - 2s 5ms/step - loss: 1.3905 - accuracy: 0.5052 - val_loss: 1.3515 - val_accuracy: 0.5182\n",
            "Epoch 13/100\n",
            "313/313 [==============================] - 2s 5ms/step - loss: 1.3703 - accuracy: 0.5072 - val_loss: 1.3427 - val_accuracy: 0.5194\n",
            "Epoch 14/100\n",
            "313/313 [==============================] - 2s 5ms/step - loss: 1.3546 - accuracy: 0.5151 - val_loss: 1.3554 - val_accuracy: 0.5121\n",
            "Epoch 15/100\n",
            "313/313 [==============================] - 2s 8ms/step - loss: 1.3439 - accuracy: 0.5201 - val_loss: 1.3338 - val_accuracy: 0.5222\n",
            "Epoch 16/100\n",
            "313/313 [==============================] - 2s 5ms/step - loss: 1.3301 - accuracy: 0.5232 - val_loss: 1.3523 - val_accuracy: 0.5163\n",
            "Epoch 17/100\n",
            "313/313 [==============================] - 2s 5ms/step - loss: 1.3152 - accuracy: 0.5315 - val_loss: 1.3289 - val_accuracy: 0.5277\n",
            "Epoch 18/100\n",
            "313/313 [==============================] - 2s 5ms/step - loss: 1.3070 - accuracy: 0.5310 - val_loss: 1.3375 - val_accuracy: 0.5243\n",
            "Epoch 19/100\n",
            "313/313 [==============================] - 2s 5ms/step - loss: 1.3004 - accuracy: 0.5351 - val_loss: 1.3206 - val_accuracy: 0.5217\n",
            "Epoch 20/100\n",
            "313/313 [==============================] - 2s 5ms/step - loss: 1.2829 - accuracy: 0.5419 - val_loss: 1.3286 - val_accuracy: 0.5272\n",
            "Epoch 21/100\n",
            "313/313 [==============================] - 2s 5ms/step - loss: 1.2781 - accuracy: 0.5415 - val_loss: 1.3208 - val_accuracy: 0.5289\n",
            "Epoch 22/100\n",
            "313/313 [==============================] - 2s 7ms/step - loss: 1.2667 - accuracy: 0.5497 - val_loss: 1.3245 - val_accuracy: 0.5261\n",
            "Epoch 23/100\n",
            "313/313 [==============================] - 2s 6ms/step - loss: 1.2597 - accuracy: 0.5504 - val_loss: 1.3173 - val_accuracy: 0.5343\n",
            "Epoch 24/100\n",
            "313/313 [==============================] - 2s 5ms/step - loss: 1.2502 - accuracy: 0.5533 - val_loss: 1.3200 - val_accuracy: 0.5309\n",
            "Epoch 25/100\n",
            "313/313 [==============================] - 2s 5ms/step - loss: 1.2397 - accuracy: 0.5589 - val_loss: 1.3012 - val_accuracy: 0.5396\n",
            "Epoch 26/100\n",
            "313/313 [==============================] - 2s 5ms/step - loss: 1.2299 - accuracy: 0.5598 - val_loss: 1.3165 - val_accuracy: 0.5357\n",
            "Epoch 27/100\n",
            "313/313 [==============================] - 2s 5ms/step - loss: 1.2267 - accuracy: 0.5608 - val_loss: 1.3248 - val_accuracy: 0.5339\n",
            "Epoch 28/100\n",
            "313/313 [==============================] - 2s 5ms/step - loss: 1.2180 - accuracy: 0.5638 - val_loss: 1.3038 - val_accuracy: 0.5386\n",
            "Epoch 29/100\n",
            "313/313 [==============================] - 2s 7ms/step - loss: 1.2095 - accuracy: 0.5688 - val_loss: 1.3089 - val_accuracy: 0.5301\n",
            "Epoch 30/100\n",
            "313/313 [==============================] - 2s 7ms/step - loss: 1.1960 - accuracy: 0.5748 - val_loss: 1.3023 - val_accuracy: 0.5402\n",
            "Epoch 31/100\n",
            "313/313 [==============================] - 2s 5ms/step - loss: 1.1935 - accuracy: 0.5736 - val_loss: 1.3149 - val_accuracy: 0.5380\n",
            "Epoch 32/100\n",
            "313/313 [==============================] - 2s 5ms/step - loss: 1.1892 - accuracy: 0.5741 - val_loss: 1.3007 - val_accuracy: 0.5390\n",
            "Epoch 33/100\n",
            "313/313 [==============================] - 2s 6ms/step - loss: 1.1870 - accuracy: 0.5749 - val_loss: 1.3045 - val_accuracy: 0.5412\n",
            "Epoch 34/100\n",
            "313/313 [==============================] - 2s 5ms/step - loss: 1.1769 - accuracy: 0.5804 - val_loss: 1.3058 - val_accuracy: 0.5375\n",
            "Epoch 35/100\n",
            "313/313 [==============================] - 2s 5ms/step - loss: 1.1683 - accuracy: 0.5806 - val_loss: 1.3231 - val_accuracy: 0.5337\n",
            "Epoch 36/100\n",
            "313/313 [==============================] - 2s 6ms/step - loss: 1.1642 - accuracy: 0.5847 - val_loss: 1.3024 - val_accuracy: 0.5388\n",
            "Epoch 37/100\n",
            "313/313 [==============================] - 2s 6ms/step - loss: 1.1576 - accuracy: 0.5864 - val_loss: 1.3129 - val_accuracy: 0.5380\n",
            "Epoch 38/100\n",
            "313/313 [==============================] - 2s 5ms/step - loss: 1.1455 - accuracy: 0.5879 - val_loss: 1.3071 - val_accuracy: 0.5340\n",
            "Epoch 39/100\n",
            "313/313 [==============================] - 2s 5ms/step - loss: 1.1472 - accuracy: 0.5932 - val_loss: 1.3170 - val_accuracy: 0.5352\n",
            "Epoch 40/100\n",
            "313/313 [==============================] - 2s 6ms/step - loss: 1.1362 - accuracy: 0.5963 - val_loss: 1.3180 - val_accuracy: 0.5374\n",
            "Epoch 41/100\n",
            "313/313 [==============================] - 2s 7ms/step - loss: 1.1417 - accuracy: 0.5929 - val_loss: 1.3241 - val_accuracy: 0.5331\n"
          ]
        }
      ]
    },
    {
      "cell_type": "markdown",
      "source": [
        "# 3. Evaluation on test data and inference\n",
        "At this point, we will perform a basic evaluation and inference. With the model.evaluate function, the same metrics are calculated, that were used during training:"
      ],
      "metadata": {
        "id": "2FtKp-a2-A9m"
      }
    },
    {
      "cell_type": "code",
      "source": [
        "print(model.evaluate(X_test, Y_test))"
      ],
      "metadata": {
        "id": "I3_9wgDREUna",
        "colab": {
          "base_uri": "https://localhost:8080/"
        },
        "outputId": "4d98d80d-13c0-4eec-a958-c1c0e3cfcf6c"
      },
      "execution_count": 35,
      "outputs": [
        {
          "output_type": "stream",
          "name": "stdout",
          "text": [
            "313/313 [==============================] - 1s 4ms/step - loss: 1.3170 - accuracy: 0.5384\n",
            "[1.3170276880264282, 0.5383999943733215]\n"
          ]
        }
      ]
    },
    {
      "cell_type": "markdown",
      "source": [
        "we would like to see similar values, as in the validation set. If those are close to each other, then the generalization ability of the model is good (in case of an independent test-set)."
      ],
      "metadata": {
        "id": "ECHguBFtGL7f"
      }
    },
    {
      "cell_type": "markdown",
      "source": [
        "## 3.1. Exercise\n",
        "Predict the class of the first 10 elements in the test set, and compare the predicted values with the actual, target values in the test set. Hints:\n",
        "* you can use [model.predict](https://www.activestate.com/resources/quick-reads/how-to-use-a-model-to-do-predictions-with-keras/) for prediction\n",
        "* from the output you can select the largest value with the [argmax() function of Numpy](https://stackoverflow.com/questions/62358642/convert-one-hot-encoding-back-to-number-label). As there are multiple values, you have to call it with axis=1 parameter.\n",
        "* it is enought to compare the predictions and the targets by printing the values out and inspecting them."
      ],
      "metadata": {
        "id": "0Io4zYJeHjz6"
      }
    },
    {
      "cell_type": "code",
      "source": [
        "preds = model.predict(X_test[:10])\n",
        "preds_dense = np.argmax(preds, axis=1)"
      ],
      "metadata": {
        "id": "XEEyU7exILqF",
        "colab": {
          "base_uri": "https://localhost:8080/"
        },
        "outputId": "dcccf185-3b16-4e51-bd0e-9c86c33d611f"
      },
      "execution_count": 36,
      "outputs": [
        {
          "output_type": "stream",
          "name": "stdout",
          "text": [
            "1/1 [==============================] - 0s 93ms/step\n"
          ]
        }
      ]
    },
    {
      "cell_type": "markdown",
      "source": [
        "Before comparision, you have to convert back the one-hot encoded target values the same way, as you converted the output of the neural network to class values with argmax() function."
      ],
      "metadata": {
        "id": "seZTEFI-I5cZ"
      }
    },
    {
      "cell_type": "code",
      "source": [
        "print(\"Target labels:\", np.argmax(Y_test[:10],axis=1))\n",
        "print(\"Predicted labels:\", preds_dense)"
      ],
      "metadata": {
        "id": "PHLvoMuIIkJ6",
        "colab": {
          "base_uri": "https://localhost:8080/"
        },
        "outputId": "37bb4103-c600-4b0e-a73e-58f5f108b45c"
      },
      "execution_count": 37,
      "outputs": [
        {
          "output_type": "stream",
          "name": "stdout",
          "text": [
            "Target labels: [3 8 8 0 6 6 1 6 3 1]\n",
            "Predicted labels: [3 9 8 8 6 6 3 6 2 1]\n"
          ]
        }
      ]
    }
  ]
}