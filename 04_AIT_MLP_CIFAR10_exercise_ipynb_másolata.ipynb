{
  "nbformat": 4,
  "nbformat_minor": 0,
  "metadata": {
    "anaconda-cloud": {},
    "kernelspec": {
      "display_name": "Python 3",
      "language": "python",
      "name": "python3"
    },
    "language_info": {
      "codemirror_mode": {
        "name": "ipython",
        "version": 3
      },
      "file_extension": ".py",
      "mimetype": "text/x-python",
      "name": "python",
      "nbconvert_exporter": "python",
      "pygments_lexer": "ipython3",
      "version": "3.6.6"
    },
    "colab": {
      "provenance": [],
      "include_colab_link": true
    },
    "accelerator": "GPU"
  },
  "cells": [
    {
      "cell_type": "markdown",
      "metadata": {
        "id": "view-in-github",
        "colab_type": "text"
      },
      "source": [
        "<a href=\"https://colab.research.google.com/github/rimmelb/AITassignment3/blob/main/04_AIT_MLP_CIFAR10_exercise_ipynb_m%C3%A1solata.ipynb\" target=\"_parent\"><img src=\"https://colab.research.google.com/assets/colab-badge.svg\" alt=\"Open In Colab\"/></a>"
      ]
    },
    {
      "cell_type": "markdown",
      "metadata": {
        "id": "cW-EyI5Lxpqi"
      },
      "source": [
        "# Copyright\n",
        "\n",
        "<PRE>\n",
        "Copyright (c) 2024 Bálint Gyires-Tóth - All Rights Reserved\n",
        "You may use and modify this code for research and development purpuses.\n",
        "Using this code for educational purposes (self-paced or instructor led) without the permission of the author is prohibited.\n",
        "</PRE>"
      ]
    },
    {
      "cell_type": "markdown",
      "source": [
        "# Example of data exploration, modeling, regulartion and prediction\n",
        "Our exercise today involves loading a standard dataset using TensorFlow Keras API, exploring the data, building a simple neural network, and evaluating the effects of basic methods (activation functions, regularization, weight initialization, etc.). We then perform predictions on the test set and inspect the results."
      ],
      "metadata": {
        "id": "3EX4cCa4WKJu"
      }
    },
    {
      "cell_type": "markdown",
      "source": [
        "# 1. Data\n",
        "The dataset we will use is the well-known CIFAR10 (Canadian Institute For Advanced Research). Explore the details on the Keras website first: https://keras.io/api/datasets/cifar10/\n",
        "\n",
        "After you explored the basic features of the data, let's load it into the memory and explore the shapes:"
      ],
      "metadata": {
        "id": "yY9fztIeWIKt"
      }
    },
    {
      "cell_type": "code",
      "source": [
        "from tensorflow.keras.datasets import cifar10\n",
        "from tensorflow.keras.utils import to_categorical\n",
        "import numpy as np"
      ],
      "metadata": {
        "id": "giRZKTjzX_7l"
      },
      "execution_count": 2,
      "outputs": []
    },
    {
      "cell_type": "code",
      "source": [
        "(X_train, Y_train), (X_test, Y_test) = cifar10.load_data()"
      ],
      "metadata": {
        "id": "bez7q0eiWQCK",
        "colab": {
          "base_uri": "https://localhost:8080/"
        },
        "outputId": "1a46217e-f48b-4529-a7d3-2257232bde26"
      },
      "execution_count": 3,
      "outputs": [
        {
          "output_type": "stream",
          "name": "stdout",
          "text": [
            "Downloading data from https://www.cs.toronto.edu/~kriz/cifar-10-python.tar.gz\n",
            "170498071/170498071 [==============================] - 7s 0us/step\n"
          ]
        }
      ]
    },
    {
      "cell_type": "code",
      "source": [
        "print(X_train.shape)\n",
        "print(X_test.shape)\n",
        "print(Y_train.shape)\n",
        "print(Y_test.shape)"
      ],
      "metadata": {
        "id": "2tJoRq5wXywi",
        "colab": {
          "base_uri": "https://localhost:8080/"
        },
        "outputId": "4209b1ba-d480-440c-8e17-27bfc886437a"
      },
      "execution_count": 4,
      "outputs": [
        {
          "output_type": "stream",
          "name": "stdout",
          "text": [
            "(50000, 32, 32, 3)\n",
            "(10000, 32, 32, 3)\n",
            "(50000, 1)\n",
            "(10000, 1)\n"
          ]
        }
      ]
    },
    {
      "cell_type": "markdown",
      "source": [
        "## 1.1. Exercise\n",
        "Display the first ten images of the training data. Hints:\n",
        "* Axis 0 refers to the separate images, e.g. X_train[0]\n",
        "* You can use the [Matplotlib Pyplot imshow function](https://matplotlib.org/stable/api/_as_gen/matplotlib.pyplot.imshow.html) for displaying the image. Just don't forget to import Plotly first!\n",
        "* A corresponding example, but you have to modify the code for your purpose: https://stackoverflow.com/questions/46615554/how-to-display-multiple-images-in-one-figure-correctly"
      ],
      "metadata": {
        "id": "zTCSGFyDlNvf"
      }
    },
    {
      "cell_type": "code",
      "source": [
        "import matplotlib.pyplot as plt\n",
        "\n",
        "plt.figure(figsize=(10,10))\n",
        "for i in range(10):\n",
        "    plt.subplot(5,5,i+1)\n",
        "    plt.xticks([])\n",
        "    plt.yticks([])\n",
        "    plt.grid(False)\n",
        "    plt.imshow(X_train[i], cmap=plt.cm.binary)\n",
        "plt.show()"
      ],
      "metadata": {
        "id": "hIQhHTppmBdO",
        "colab": {
          "base_uri": "https://localhost:8080/",
          "height": 329
        },
        "outputId": "fe2a6833-75cf-41a8-dbda-416b1989d9cb"
      },
      "execution_count": 5,
      "outputs": [
        {
          "output_type": "display_data",
          "data": {
            "text/plain": [
              "<Figure size 1000x1000 with 10 Axes>"
            ],
            "image/png": "[encoded data removed]"
          },
          "metadata": {}
        }
      ]
    },
    {
      "cell_type": "markdown",
      "source": [
        "Print the corresponding labels of the displayed images from the target variable (Y_train):"
      ],
      "metadata": {
        "id": "FAQkUWlmm-bc"
      }
    },
    {
      "cell_type": "code",
      "source": [
        "for i in range(10):\n",
        "  print(Y_train[i])"
      ],
      "metadata": {
        "id": "AkOrWzghnJ78",
        "colab": {
          "base_uri": "https://localhost:8080/"
        },
        "outputId": "52dca945-0086-4440-805c-e4c79c8478a1"
      },
      "execution_count": 6,
      "outputs": [
        {
          "output_type": "stream",
          "name": "stdout",
          "text": [
            "[6]\n",
            "[9]\n",
            "[9]\n",
            "[4]\n",
            "[1]\n",
            "[1]\n",
            "[2]\n",
            "[7]\n",
            "[8]\n",
            "[3]\n"
          ]
        }
      ]
    },
    {
      "cell_type": "markdown",
      "source": [
        "## 1.2. Exercise\n",
        "We will train a Multi-Layer Perceptron (MLP), which requires a 2 dimensional input: 0th axis refers to the datapoints (i.e. images), the 1th dimens to the input. As images are 3 dimensional (width, height, color channels), you have to reshape the images into vectors. We also call this flattening.\n",
        "\n",
        "In order to do so, calculate the size of the equivalent 1D vector of the image:"
      ],
      "metadata": {
        "id": "VX24g5FstsRU"
      }
    },
    {
      "cell_type": "code",
      "source": [
        "flattened_dim = (X_train.shape[1]*X_train.shape[2]*X_train.shape[3]);"
      ],
      "metadata": {
        "id": "hdoMyxHzuXZG"
      },
      "execution_count": 7,
      "outputs": []
    },
    {
      "cell_type": "markdown",
      "source": [
        "After you calculated it, we can reshape the images, and covert the integer arrays into float arrays -- which are needed for the neural networks as input. Hint:\n",
        "* in the [reshape() function of Numpy](https://www.w3schools.com/python/numpy/numpy_array_reshape.asp) you can use -1 for one axis, to automatically calculate that value."
      ],
      "metadata": {
        "id": "WbqXJUSFubeC"
      }
    },
    {
      "cell_type": "code",
      "source": [
        "# reshape 3D tensors to 2D tensors\n",
        "X_train = X_train.reshape(X_train.shape[0], -1)\n",
        "X_test = X_test.reshape(X_test.shape[0], -1)\n",
        "\n",
        "# it is in int8 format, the neural network requires float32\n",
        "X_train = X_train.astype('float32')\n",
        "X_test = X_test.astype('float32')"
      ],
      "metadata": {
        "id": "vukOcBM0XzSj"
      },
      "execution_count": 8,
      "outputs": []
    },
    {
      "cell_type": "markdown",
      "source": [
        "## 1.3. Exercise\n",
        "As the next step, let's split the training data into training and validation data. 80% of the original training data should be the final training data, and 20% the validation.\n",
        "You should use Numpy indexing to select the first 80% of X_train as final X_train, and the last 20% as X_valid. Hints:\n",
        "* https://datascienceparichay.com/article/numpy-array-first-n-rows/\n",
        "* https://datascienceparichay.com/article/numpy-array-last-n-rows/"
      ],
      "metadata": {
        "id": "DO79AdIdvVfD"
      }
    },
    {
      "cell_type": "code",
      "source": [
        "train_ratio  = 0.8\n",
        "train_length = int(X_train.shape[0] * train_ratio)\n",
        "train_split = X_train.shape[0] - train_length\n",
        "X_valid, Y_valid = X_train[:train_split], Y_train[:train_split]\n",
        "X_train, Y_train = X_train[train_split:], Y_train[train_split:]"
      ],
      "metadata": {
        "id": "mRwuWxxIxLgN"
      },
      "execution_count": 9,
      "outputs": []
    },
    {
      "cell_type": "markdown",
      "source": [
        "## 1.4. Exercise\n",
        "As the last step of input data preparation, the data should be standardized. Calculate the mean and variance of the training data (elementvise -- so for each value of the flattened image you should get a mean and variance for the training data along 0th axis). Hint:\n",
        "* https://stackoverflow.com/questions/70626231/how-to-calculate-mean-variance-standard-deviation-per-index-of-array"
      ],
      "metadata": {
        "id": "z05y_QWDxWER"
      }
    },
    {
      "cell_type": "code",
      "source": [
        "mean = np.mean(X_train)\n",
        "std = np.std(X_train)"
      ],
      "metadata": {
        "id": "TSZbvWCBx8Ea"
      },
      "execution_count": 10,
      "outputs": []
    },
    {
      "cell_type": "markdown",
      "source": [
        "Next, use the resulting values to standardize the training, validation and test data by substracting the mean and dividing the result with the standard deviation."
      ],
      "metadata": {
        "id": "6WRHKkkjyN1S"
      }
    },
    {
      "cell_type": "code",
      "source": [
        "X_train = (X_train - mean) / std\n",
        "X_valid = (X_valid - mean) / std\n",
        "X_test = (X_test - mean) / std"
      ],
      "metadata": {
        "id": "2ESLP1EIyB2J"
      },
      "execution_count": 11,
      "outputs": []
    },
    {
      "cell_type": "markdown",
      "source": [
        "## 1.5. Exercise\n",
        "And as the last step, convert the dense representation of the classes (i.e. 0,1,2,3...9) to one-hot encoding (0 = [1 0 0 0 0 0 0 0 0 0], 1 = [0 1 0 0 0 0 0 0 0 0] ... 9 = [0 0 0 0 0 0 0 0 0 1]). To do this, first, calculate the number of unique elements in the target training data. Hints:\n",
        "* use the [unique() function](https://numpy.org/doc/stable/reference/generated/numpy.unique.html) of Numpy to list the unique elements\n",
        "* you can count the number of elements in a list with the [len() function](https://www.w3schools.com/python/ref_func_len.asp)"
      ],
      "metadata": {
        "id": "ooHCnUin7r4o"
      }
    },
    {
      "cell_type": "code",
      "source": [
        "nb_classes = len(np.unique(Y_train))"
      ],
      "metadata": {
        "id": "i0LAO9cs8KEE"
      },
      "execution_count": 12,
      "outputs": []
    },
    {
      "cell_type": "markdown",
      "source": [
        "Doublecheck, if the same number of classes exists in the validation and test target data:"
      ],
      "metadata": {
        "id": "BvM6XhGe8JU9"
      }
    },
    {
      "cell_type": "code",
      "source": [
        "print(\"Validation data has the same number of classes, as the training data:\", nb_classes == len(np.unique(Y_valid)))\n",
        "print(\"Test data has the same number of classes, as the training data:\", nb_classes == len(np.unique(Y_test)))"
      ],
      "metadata": {
        "id": "eZFNSsyx_Py2",
        "colab": {
          "base_uri": "https://localhost:8080/"
        },
        "outputId": "8d2bb0a8-e634-4d3c-fd47-d64b416afb8b"
      },
      "execution_count": 13,
      "outputs": [
        {
          "output_type": "stream",
          "name": "stdout",
          "text": [
            "Validation data has the same number of classes, as the training data: True\n",
            "Test data has the same number of classes, as the training data: True\n"
          ]
        }
      ]
    },
    {
      "cell_type": "markdown",
      "source": [
        "And convert the dense representation into one-hot encoding. Hint:\n",
        "* use the [to_categorical function](https://www.tensorflow.org/api_docs/python/tf/keras/utils/to_categorical) with the calculated nb_classes\n"
      ],
      "metadata": {
        "id": "mJM-iBmR8dLe"
      }
    },
    {
      "cell_type": "code",
      "source": [
        "Y_train = to_categorical(Y_train, num_classes = nb_classes, dtype = 'float32')\n",
        "Y_valid = to_categorical(Y_valid, num_classes = nb_classes, dtype = 'float32')\n",
        "Y_test  = to_categorical(Y_test, num_classes = nb_classes, dtype = 'float32')"
      ],
      "metadata": {
        "id": "xwZ4OJ6I8lba"
      },
      "execution_count": 14,
      "outputs": []
    },
    {
      "cell_type": "markdown",
      "source": [
        "## Final check of data preparation\n",
        "Now, lets check the shapes and mean and standard deviation of the training, validation and test data."
      ],
      "metadata": {
        "id": "LshN2OSsv3TZ"
      }
    },
    {
      "cell_type": "code",
      "source": [
        "print(\"Shapes of the training, validation and test input data:\", X_train.shape, X_valid.shape, X_test.shape)\n",
        "print(\"Shapes of the training, validation and test output data:\", Y_train.shape, Y_valid.shape, Y_test.shape)\n",
        "print(\"Mean values of the training, validation and test input data:\", X_train.mean(), X_valid.mean(), X_test.mean())\n",
        "print(\"Standard deviation of the training, validation and test input data:\", X_train.std(), X_valid.std(), X_test.std())"
      ],
      "metadata": {
        "id": "O_jdJVcvX0vi",
        "colab": {
          "base_uri": "https://localhost:8080/"
        },
        "outputId": "ebac27be-aefe-486d-f89a-dd91d8f7ac0e"
      },
      "execution_count": 15,
      "outputs": [
        {
          "output_type": "stream",
          "name": "stdout",
          "text": [
            "Shapes of the training, validation and test input data: (40000, 3072) (10000, 3072) (10000, 3072)\n",
            "Shapes of the training, validation and test output data: (40000, 10) (10000, 10) (10000, 10)\n",
            "Mean values of the training, validation and test input data: 3.9108672e-06 0.00650789 0.01412415\n",
            "Standard deviation of the training, validation and test input data: 1.0000006 1.0046989 0.99955535\n"
          ]
        }
      ]
    },
    {
      "cell_type": "markdown",
      "source": [
        "Don't worry, if the mean and standard deviation of the validation and test data are not exactly 0 and 1, but these might be very mear to it (e.g. 0.01 mean, 0.99 variance)."
      ],
      "metadata": {
        "id": "5GtAOOoezmZY"
      }
    },
    {
      "cell_type": "markdown",
      "metadata": {
        "id": "cJ14oyZExpqj"
      },
      "source": [
        "# 2. Training"
      ]
    },
    {
      "cell_type": "markdown",
      "metadata": {
        "id": "s4ZXYRMBxpql"
      },
      "source": [
        "Let us begin with a simple example of creating a small neural network without regularization and training it with actual data. The purpose of this is to provide you with an example as to how to proceed with the next exercise."
      ]
    },
    {
      "cell_type": "code",
      "source": [
        "# imports\n",
        "import numpy as np\n",
        "import matplotlib.pyplot as plt\n",
        "from tensorflow.keras.models import Sequential\n",
        "from tensorflow.keras.layers import Dense, Embedding, Flatten, Dropout\n",
        "from tensorflow.keras.initializers import HeNormal\n",
        "from tensorflow.keras.callbacks import EarlyStopping"
      ],
      "metadata": {
        "id": "6-8Q6ll7ZDgq"
      },
      "execution_count": 16,
      "outputs": []
    },
    {
      "cell_type": "code",
      "source": [
        "# model definition\n",
        "model = Sequential()\n",
        "model.add(Dense(128, activation='tanh', input_shape=(flattened_dim,)))\n",
        "model.add(Dense(128, activation='tanh'))\n",
        "model.add(Dense(nb_classes, activation='softmax'))\n",
        "\n",
        "# loss function and optimizer\n",
        "model.compile(loss='categorical_crossentropy', optimizer='adam', metrics=['accuracy'])"
      ],
      "metadata": {
        "id": "pke6w3CD8DHp"
      },
      "execution_count": 17,
      "outputs": []
    },
    {
      "cell_type": "code",
      "metadata": {
        "id": "CZbOR76QxprC",
        "colab": {
          "base_uri": "https://localhost:8080/"
        },
        "outputId": "b26537ac-7baa-4adf-d5c6-b42060720f49"
      },
      "source": [
        "# training\n",
        "network_history = model.fit(X_train, Y_train,\n",
        "                            validation_data=(X_valid,Y_valid),\n",
        "                            batch_size=128,\n",
        "                            epochs=40,\n",
        "                            verbose=1)"
      ],
      "execution_count": 18,
      "outputs": [
        {
          "output_type": "stream",
          "name": "stdout",
          "text": [
            "Epoch 1/40\n",
            "313/313 [==============================] - 5s 8ms/step - loss: 1.8173 - accuracy: 0.3643 - val_loss: 1.7208 - val_accuracy: 0.3956\n",
            "Epoch 2/40\n",
            "313/313 [==============================] - 2s 5ms/step - loss: 1.6887 - accuracy: 0.4124 - val_loss: 1.6954 - val_accuracy: 0.4014\n",
            "Epoch 3/40\n",
            "313/313 [==============================] - 2s 6ms/step - loss: 1.6368 - accuracy: 0.4306 - val_loss: 1.6540 - val_accuracy: 0.4238\n",
            "Epoch 4/40\n",
            "313/313 [==============================] - 2s 6ms/step - loss: 1.5934 - accuracy: 0.4477 - val_loss: 1.6568 - val_accuracy: 0.4190\n",
            "Epoch 5/40\n",
            "313/313 [==============================] - 1s 4ms/step - loss: 1.5561 - accuracy: 0.4574 - val_loss: 1.6262 - val_accuracy: 0.4321\n",
            "Epoch 6/40\n",
            "313/313 [==============================] - 1s 5ms/step - loss: 1.5289 - accuracy: 0.4677 - val_loss: 1.6136 - val_accuracy: 0.4356\n",
            "Epoch 7/40\n",
            "313/313 [==============================] - 2s 5ms/step - loss: 1.4969 - accuracy: 0.4795 - val_loss: 1.6076 - val_accuracy: 0.4412\n",
            "Epoch 8/40\n",
            "313/313 [==============================] - 2s 6ms/step - loss: 1.4711 - accuracy: 0.4878 - val_loss: 1.5834 - val_accuracy: 0.4509\n",
            "Epoch 9/40\n",
            "313/313 [==============================] - 1s 4ms/step - loss: 1.4431 - accuracy: 0.4997 - val_loss: 1.5963 - val_accuracy: 0.4438\n",
            "Epoch 10/40\n",
            "313/313 [==============================] - 1s 4ms/step - loss: 1.4230 - accuracy: 0.5039 - val_loss: 1.5829 - val_accuracy: 0.4454\n",
            "Epoch 11/40\n",
            "313/313 [==============================] - 1s 5ms/step - loss: 1.3953 - accuracy: 0.5163 - val_loss: 1.5751 - val_accuracy: 0.4512\n",
            "Epoch 12/40\n",
            "313/313 [==============================] - 1s 5ms/step - loss: 1.3748 - accuracy: 0.5205 - val_loss: 1.5854 - val_accuracy: 0.4480\n",
            "Epoch 13/40\n",
            "313/313 [==============================] - 2s 5ms/step - loss: 1.3487 - accuracy: 0.5294 - val_loss: 1.5819 - val_accuracy: 0.4503\n",
            "Epoch 14/40\n",
            "313/313 [==============================] - 1s 5ms/step - loss: 1.3276 - accuracy: 0.5353 - val_loss: 1.5731 - val_accuracy: 0.4548\n",
            "Epoch 15/40\n",
            "313/313 [==============================] - 1s 4ms/step - loss: 1.3017 - accuracy: 0.5466 - val_loss: 1.5843 - val_accuracy: 0.4570\n",
            "Epoch 16/40\n",
            "313/313 [==============================] - 2s 6ms/step - loss: 1.2904 - accuracy: 0.5498 - val_loss: 1.5575 - val_accuracy: 0.4649\n",
            "Epoch 17/40\n",
            "313/313 [==============================] - 1s 5ms/step - loss: 1.2650 - accuracy: 0.5594 - val_loss: 1.5676 - val_accuracy: 0.4595\n",
            "Epoch 18/40\n",
            "313/313 [==============================] - 1s 4ms/step - loss: 1.2482 - accuracy: 0.5647 - val_loss: 1.5703 - val_accuracy: 0.4578\n",
            "Epoch 19/40\n",
            "313/313 [==============================] - 1s 5ms/step - loss: 1.2279 - accuracy: 0.5726 - val_loss: 1.5646 - val_accuracy: 0.4628\n",
            "Epoch 20/40\n",
            "313/313 [==============================] - 1s 4ms/step - loss: 1.2167 - accuracy: 0.5763 - val_loss: 1.5748 - val_accuracy: 0.4589\n",
            "Epoch 21/40\n",
            "313/313 [==============================] - 2s 5ms/step - loss: 1.1918 - accuracy: 0.5852 - val_loss: 1.5708 - val_accuracy: 0.4652\n",
            "Epoch 22/40\n",
            "313/313 [==============================] - 1s 4ms/step - loss: 1.1800 - accuracy: 0.5903 - val_loss: 1.5897 - val_accuracy: 0.4635\n",
            "Epoch 23/40\n",
            "313/313 [==============================] - 1s 5ms/step - loss: 1.1619 - accuracy: 0.5965 - val_loss: 1.5993 - val_accuracy: 0.4630\n",
            "Epoch 24/40\n",
            "313/313 [==============================] - 2s 7ms/step - loss: 1.1449 - accuracy: 0.6025 - val_loss: 1.5887 - val_accuracy: 0.4643\n",
            "Epoch 25/40\n",
            "313/313 [==============================] - 2s 6ms/step - loss: 1.1237 - accuracy: 0.6088 - val_loss: 1.6053 - val_accuracy: 0.4606\n",
            "Epoch 26/40\n",
            "313/313 [==============================] - 1s 4ms/step - loss: 1.1072 - accuracy: 0.6153 - val_loss: 1.6122 - val_accuracy: 0.4568\n",
            "Epoch 27/40\n",
            "313/313 [==============================] - 1s 5ms/step - loss: 1.0894 - accuracy: 0.6222 - val_loss: 1.6272 - val_accuracy: 0.4549\n",
            "Epoch 28/40\n",
            "313/313 [==============================] - 2s 5ms/step - loss: 1.0804 - accuracy: 0.6246 - val_loss: 1.6403 - val_accuracy: 0.4519\n",
            "Epoch 29/40\n",
            "313/313 [==============================] - 1s 4ms/step - loss: 1.0647 - accuracy: 0.6306 - val_loss: 1.6434 - val_accuracy: 0.4539\n",
            "Epoch 30/40\n",
            "313/313 [==============================] - 2s 5ms/step - loss: 1.0466 - accuracy: 0.6348 - val_loss: 1.6509 - val_accuracy: 0.4545\n",
            "Epoch 31/40\n",
            "313/313 [==============================] - 2s 5ms/step - loss: 1.0294 - accuracy: 0.6460 - val_loss: 1.6594 - val_accuracy: 0.4551\n",
            "Epoch 32/40\n",
            "313/313 [==============================] - 2s 6ms/step - loss: 1.0113 - accuracy: 0.6488 - val_loss: 1.6536 - val_accuracy: 0.4583\n",
            "Epoch 33/40\n",
            "313/313 [==============================] - 2s 6ms/step - loss: 0.9884 - accuracy: 0.6563 - val_loss: 1.6759 - val_accuracy: 0.4572\n",
            "Epoch 34/40\n",
            "313/313 [==============================] - 1s 4ms/step - loss: 0.9771 - accuracy: 0.6627 - val_loss: 1.6757 - val_accuracy: 0.4549\n",
            "Epoch 35/40\n",
            "313/313 [==============================] - 1s 5ms/step - loss: 0.9642 - accuracy: 0.6662 - val_loss: 1.7001 - val_accuracy: 0.4594\n",
            "Epoch 36/40\n",
            "313/313 [==============================] - 1s 4ms/step - loss: 0.9557 - accuracy: 0.6658 - val_loss: 1.7015 - val_accuracy: 0.4596\n",
            "Epoch 37/40\n",
            "313/313 [==============================] - 2s 5ms/step - loss: 0.9395 - accuracy: 0.6750 - val_loss: 1.7203 - val_accuracy: 0.4512\n",
            "Epoch 38/40\n",
            "313/313 [==============================] - 1s 5ms/step - loss: 0.9249 - accuracy: 0.6789 - val_loss: 1.7231 - val_accuracy: 0.4556\n",
            "Epoch 39/40\n",
            "313/313 [==============================] - 1s 4ms/step - loss: 0.9068 - accuracy: 0.6892 - val_loss: 1.7467 - val_accuracy: 0.4463\n",
            "Epoch 40/40\n",
            "313/313 [==============================] - 2s 5ms/step - loss: 0.8892 - accuracy: 0.6940 - val_loss: 1.7516 - val_accuracy: 0.4531\n"
          ]
        }
      ]
    },
    {
      "cell_type": "markdown",
      "metadata": {
        "id": "uFqhzV85xprJ"
      },
      "source": [
        "Let's plot the training and validation loss and accuracy curves:"
      ]
    },
    {
      "cell_type": "code",
      "metadata": {
        "id": "BYmXGkLCxprK",
        "colab": {
          "base_uri": "https://localhost:8080/",
          "height": 881
        },
        "outputId": "ba934b9d-fa8f-4df6-c893-0b5017c103e4"
      },
      "source": [
        "def plot_history(network_history):\n",
        "    plt.figure()\n",
        "    plt.xlabel('Epochs')\n",
        "    plt.ylabel('Loss')\n",
        "    plt.plot(network_history.history['loss'])\n",
        "    plt.plot(network_history.history['val_loss'])\n",
        "    plt.legend(['Training', 'Validation'])\n",
        "\n",
        "    plt.figure()\n",
        "    plt.xlabel('Epochs')\n",
        "    plt.ylabel('Accuracy')\n",
        "    plt.plot(network_history.history['accuracy'])\n",
        "    plt.plot(network_history.history['val_accuracy'])\n",
        "    plt.legend(['Training', 'Validation'], loc='lower right')\n",
        "    plt.show()\n",
        "\n",
        "plot_history(network_history)"
      ],
      "execution_count": 19,
      "outputs": [
        {
          "output_type": "display_data",
          "data": {
            "text/plain": [
              "<Figure size 640x480 with 1 Axes>"
            ],
            "image/png": "[encoded data removed]"
          },
          "metadata": {}
        },
        {
          "output_type": "display_data",
          "data": {
            "text/plain": [
              "<Figure size 640x480 with 1 Axes>"
            ],
            "image/png": "[encoded data removed]"
          },
          "metadata": {}
        }
      ]
    },
    {
      "cell_type": "markdown",
      "source": [
        "What do you think? Does it overfit?"
      ],
      "metadata": {
        "id": "tgG7QeXF-dx6"
      }
    },
    {
      "cell_type": "markdown",
      "metadata": {
        "id": "_Q9rIeBBxprO"
      },
      "source": [
        "# Inspecting the model"
      ]
    },
    {
      "cell_type": "code",
      "metadata": {
        "id": "6r2AmmoMxprP",
        "colab": {
          "base_uri": "https://localhost:8080/"
        },
        "outputId": "ef2b6d31-1f86-4f1c-fb8a-f5bd38d254fc"
      },
      "source": [
        "model.summary()"
      ],
      "execution_count": 20,
      "outputs": [
        {
          "output_type": "stream",
          "name": "stdout",
          "text": [
            "Model: \"sequential\"\n",
            "_________________________________________________________________\n",
            " Layer (type)                Output Shape              Param #   \n",
            "=================================================================\n",
            " dense (Dense)               (None, 128)               393344    \n",
            "                                                                 \n",
            " dense_1 (Dense)             (None, 128)               16512     \n",
            "                                                                 \n",
            " dense_2 (Dense)             (None, 10)                1290      \n",
            "                                                                 \n",
            "=================================================================\n",
            "Total params: 411146 (1.57 MB)\n",
            "Trainable params: 411146 (1.57 MB)\n",
            "Non-trainable params: 0 (0.00 Byte)\n",
            "_________________________________________________________________\n"
          ]
        }
      ]
    },
    {
      "cell_type": "code",
      "metadata": {
        "id": "D3-bVDVuxprS",
        "colab": {
          "base_uri": "https://localhost:8080/"
        },
        "outputId": "8fd2994a-a36b-4234-a0b1-e4b589db70c9"
      },
      "source": [
        "print('Input: ', model.input)"
      ],
      "execution_count": 21,
      "outputs": [
        {
          "output_type": "stream",
          "name": "stdout",
          "text": [
            "Input:  KerasTensor(type_spec=TensorSpec(shape=(None, 3072), dtype=tf.float32, name='dense_input'), name='dense_input', description=\"created by layer 'dense_input'\")\n"
          ]
        }
      ]
    },
    {
      "cell_type": "code",
      "metadata": {
        "id": "Da2OJ3DmxprX",
        "colab": {
          "base_uri": "https://localhost:8080/"
        },
        "outputId": "2b48b882-6361-4ad0-e129-764529c871aa"
      },
      "source": [
        "print('Layers:\\n')\n",
        "for layer in model.layers:\n",
        "    print(\"Layer's name: \", layer.name, ', trainable: ', layer.trainable)\n",
        "    print(layer.get_config(),'\\n')"
      ],
      "execution_count": 22,
      "outputs": [
        {
          "output_type": "stream",
          "name": "stdout",
          "text": [
            "Layers:\n",
            "\n",
            "Layer's name:  dense , trainable:  True\n",
            "{'name': 'dense', 'trainable': True, 'dtype': 'float32', 'batch_input_shape': (None, 3072), 'units': 128, 'activation': 'tanh', 'use_bias': True, 'kernel_initializer': {'module': 'keras.initializers', 'class_name': 'GlorotUniform', 'config': {'seed': None}, 'registered_name': None}, 'bias_initializer': {'module': 'keras.initializers', 'class_name': 'Zeros', 'config': {}, 'registered_name': None}, 'kernel_regularizer': None, 'bias_regularizer': None, 'activity_regularizer': None, 'kernel_constraint': None, 'bias_constraint': None} \n",
            "\n",
            "Layer's name:  dense_1 , trainable:  True\n",
            "{'name': 'dense_1', 'trainable': True, 'dtype': 'float32', 'units': 128, 'activation': 'tanh', 'use_bias': True, 'kernel_initializer': {'module': 'keras.initializers', 'class_name': 'GlorotUniform', 'config': {'seed': None}, 'registered_name': None}, 'bias_initializer': {'module': 'keras.initializers', 'class_name': 'Zeros', 'config': {}, 'registered_name': None}, 'kernel_regularizer': None, 'bias_regularizer': None, 'activity_regularizer': None, 'kernel_constraint': None, 'bias_constraint': None} \n",
            "\n",
            "Layer's name:  dense_2 , trainable:  True\n",
            "{'name': 'dense_2', 'trainable': True, 'dtype': 'float32', 'units': 10, 'activation': 'softmax', 'use_bias': True, 'kernel_initializer': {'module': 'keras.initializers', 'class_name': 'GlorotUniform', 'config': {'seed': None}, 'registered_name': None}, 'bias_initializer': {'module': 'keras.initializers', 'class_name': 'Zeros', 'config': {}, 'registered_name': None}, 'kernel_regularizer': None, 'bias_regularizer': None, 'activity_regularizer': None, 'kernel_constraint': None, 'bias_constraint': None} \n",
            "\n"
          ]
        }
      ]
    },
    {
      "cell_type": "code",
      "metadata": {
        "id": "AtVX3M3lxprc",
        "colab": {
          "base_uri": "https://localhost:8080/"
        },
        "outputId": "a98082be-51d1-4d85-8bb7-96e9fa01e443"
      },
      "source": [
        "print('Output: ', model.output)"
      ],
      "execution_count": 23,
      "outputs": [
        {
          "output_type": "stream",
          "name": "stdout",
          "text": [
            "Output:  KerasTensor(type_spec=TensorSpec(shape=(None, 10), dtype=tf.float32, name=None), name='dense_2/Softmax:0', description=\"created by layer 'dense_2'\")\n"
          ]
        }
      ]
    },
    {
      "cell_type": "markdown",
      "source": [
        "## 2.1. Exercise\n",
        "Introduce [early stopping](https://www.tensorflow.org/api_docs/python/tf/keras/callbacks/EarlyStopping) and [dropout](https://www.tensorflow.org/api_docs/python/tf/keras/layers/Dropout) with a rate between 0.1..0.5. Tips:\n",
        "\n",
        "* Insert the dropout layer between the two Dense layers.\n",
        "* Set the patience of early stopping to 5.\n",
        "* Set the number of epochs to a very high number.\n",
        "* Don't forget to restore best weights after early stopping.\n",
        "* And also set early stopping to monitor validation accuracy (the default value is validation loss -- which is categorical crossentropy now).\n",
        "\n",
        "Compile and train the model. Attempt to increase the validation accuracy as much as possible by making changes to the dropout rate. Inspect the effects of the modifications."
      ],
      "metadata": {
        "id": "E-hHfs9qA_iO"
      }
    },
    {
      "cell_type": "code",
      "source": [
        "from tensorflow import keras\n",
        "\n",
        "es = EarlyStopping(monitor='val_accuracy', patience=5, restore_best_weights=True)"
      ],
      "metadata": {
        "id": "NwXrPzOgEBG-"
      },
      "execution_count": 24,
      "outputs": []
    },
    {
      "cell_type": "code",
      "source": [
        "# model definition with dropout\n",
        "dropout_rate = 0.3\n",
        "model = Sequential()\n",
        "model.add(Dense(128, activation='tanh', input_shape=(flattened_dim,)))\n",
        "model.add(Dropout(dropout_rate))\n",
        "model.add(Dense(128, activation='tanh'))\n",
        "model.add(Dense(nb_classes, activation='softmax'))\n",
        "\n",
        "# loss function and optimizer\n",
        "model.compile(loss='categorical_crossentropy', optimizer='adam', metrics=['accuracy'])"
      ],
      "metadata": {
        "id": "7hZEGzj8GFwP"
      },
      "execution_count": 25,
      "outputs": []
    },
    {
      "cell_type": "code",
      "source": [
        "network_history = model.fit(X_train, Y_train,\n",
        "                            validation_data=(X_valid,Y_valid),\n",
        "                            batch_size=128,\n",
        "                            epochs=100,\n",
        "                            verbose=1,\n",
        "                            callbacks=[es])"
      ],
      "metadata": {
        "id": "GCG54R-vGGWj",
        "colab": {
          "base_uri": "https://localhost:8080/"
        },
        "outputId": "7e227b08-2c0b-4787-cd0e-f1234ddf093d"
      },
      "execution_count": 26,
      "outputs": [
        {
          "output_type": "stream",
          "name": "stdout",
          "text": [
            "Epoch 1/100\n",
            "313/313 [==============================] - 4s 6ms/step - loss: 1.9007 - accuracy: 0.3282 - val_loss: 1.7490 - val_accuracy: 0.3837\n",
            "Epoch 2/100\n",
            "313/313 [==============================] - 1s 4ms/step - loss: 1.7820 - accuracy: 0.3740 - val_loss: 1.7046 - val_accuracy: 0.3991\n",
            "Epoch 3/100\n",
            "313/313 [==============================] - 1s 4ms/step - loss: 1.7426 - accuracy: 0.3886 - val_loss: 1.6691 - val_accuracy: 0.4111\n",
            "Epoch 4/100\n",
            "313/313 [==============================] - 2s 5ms/step - loss: 1.7041 - accuracy: 0.4030 - val_loss: 1.6566 - val_accuracy: 0.4133\n",
            "Epoch 5/100\n",
            "313/313 [==============================] - 2s 6ms/step - loss: 1.6817 - accuracy: 0.4138 - val_loss: 1.6394 - val_accuracy: 0.4257\n",
            "Epoch 6/100\n",
            "313/313 [==============================] - 2s 5ms/step - loss: 1.6545 - accuracy: 0.4237 - val_loss: 1.6176 - val_accuracy: 0.4298\n",
            "Epoch 7/100\n",
            "313/313 [==============================] - 1s 5ms/step - loss: 1.6355 - accuracy: 0.4288 - val_loss: 1.6163 - val_accuracy: 0.4316\n",
            "Epoch 8/100\n",
            "313/313 [==============================] - 1s 4ms/step - loss: 1.6174 - accuracy: 0.4352 - val_loss: 1.5986 - val_accuracy: 0.4404\n",
            "Epoch 9/100\n",
            "313/313 [==============================] - 2s 5ms/step - loss: 1.6076 - accuracy: 0.4380 - val_loss: 1.5813 - val_accuracy: 0.4452\n",
            "Epoch 10/100\n",
            "313/313 [==============================] - 1s 4ms/step - loss: 1.5925 - accuracy: 0.4414 - val_loss: 1.5802 - val_accuracy: 0.4411\n",
            "Epoch 11/100\n",
            "313/313 [==============================] - 1s 5ms/step - loss: 1.5746 - accuracy: 0.4486 - val_loss: 1.5731 - val_accuracy: 0.4478\n",
            "Epoch 12/100\n",
            "313/313 [==============================] - 2s 5ms/step - loss: 1.5638 - accuracy: 0.4522 - val_loss: 1.5602 - val_accuracy: 0.4485\n",
            "Epoch 13/100\n",
            "313/313 [==============================] - 2s 6ms/step - loss: 1.5508 - accuracy: 0.4555 - val_loss: 1.5501 - val_accuracy: 0.4516\n",
            "Epoch 14/100\n",
            "313/313 [==============================] - 1s 5ms/step - loss: 1.5344 - accuracy: 0.4598 - val_loss: 1.5458 - val_accuracy: 0.4561\n",
            "Epoch 15/100\n",
            "313/313 [==============================] - 1s 4ms/step - loss: 1.5290 - accuracy: 0.4633 - val_loss: 1.5351 - val_accuracy: 0.4596\n",
            "Epoch 16/100\n",
            "313/313 [==============================] - 2s 5ms/step - loss: 1.5142 - accuracy: 0.4687 - val_loss: 1.5205 - val_accuracy: 0.4615\n",
            "Epoch 17/100\n",
            "313/313 [==============================] - 1s 5ms/step - loss: 1.5020 - accuracy: 0.4737 - val_loss: 1.5164 - val_accuracy: 0.4656\n",
            "Epoch 18/100\n",
            "313/313 [==============================] - 1s 5ms/step - loss: 1.4940 - accuracy: 0.4751 - val_loss: 1.5165 - val_accuracy: 0.4656\n",
            "Epoch 19/100\n",
            "313/313 [==============================] - 1s 4ms/step - loss: 1.4881 - accuracy: 0.4772 - val_loss: 1.5092 - val_accuracy: 0.4666\n",
            "Epoch 20/100\n",
            "313/313 [==============================] - 2s 5ms/step - loss: 1.4783 - accuracy: 0.4773 - val_loss: 1.5154 - val_accuracy: 0.4660\n",
            "Epoch 21/100\n",
            "313/313 [==============================] - 2s 6ms/step - loss: 1.4711 - accuracy: 0.4785 - val_loss: 1.5006 - val_accuracy: 0.4695\n",
            "Epoch 22/100\n",
            "313/313 [==============================] - 1s 5ms/step - loss: 1.4616 - accuracy: 0.4839 - val_loss: 1.4976 - val_accuracy: 0.4724\n",
            "Epoch 23/100\n",
            "313/313 [==============================] - 2s 5ms/step - loss: 1.4557 - accuracy: 0.4858 - val_loss: 1.4938 - val_accuracy: 0.4687\n",
            "Epoch 24/100\n",
            "313/313 [==============================] - 1s 5ms/step - loss: 1.4472 - accuracy: 0.4875 - val_loss: 1.4819 - val_accuracy: 0.4762\n",
            "Epoch 25/100\n",
            "313/313 [==============================] - 1s 5ms/step - loss: 1.4404 - accuracy: 0.4923 - val_loss: 1.4870 - val_accuracy: 0.4765\n",
            "Epoch 26/100\n",
            "313/313 [==============================] - 2s 5ms/step - loss: 1.4323 - accuracy: 0.4941 - val_loss: 1.4817 - val_accuracy: 0.4798\n",
            "Epoch 27/100\n",
            "313/313 [==============================] - 2s 5ms/step - loss: 1.4256 - accuracy: 0.4925 - val_loss: 1.4725 - val_accuracy: 0.4798\n",
            "Epoch 28/100\n",
            "313/313 [==============================] - 2s 5ms/step - loss: 1.4194 - accuracy: 0.4963 - val_loss: 1.4814 - val_accuracy: 0.4770\n",
            "Epoch 29/100\n",
            "313/313 [==============================] - 2s 6ms/step - loss: 1.4128 - accuracy: 0.4994 - val_loss: 1.4659 - val_accuracy: 0.4776\n",
            "Epoch 30/100\n",
            "313/313 [==============================] - 1s 4ms/step - loss: 1.4054 - accuracy: 0.5027 - val_loss: 1.4722 - val_accuracy: 0.4801\n",
            "Epoch 31/100\n",
            "313/313 [==============================] - 1s 5ms/step - loss: 1.4015 - accuracy: 0.5042 - val_loss: 1.4693 - val_accuracy: 0.4835\n",
            "Epoch 32/100\n",
            "313/313 [==============================] - 1s 4ms/step - loss: 1.3947 - accuracy: 0.5052 - val_loss: 1.4683 - val_accuracy: 0.4799\n",
            "Epoch 33/100\n",
            "313/313 [==============================] - 1s 4ms/step - loss: 1.3921 - accuracy: 0.5050 - val_loss: 1.4559 - val_accuracy: 0.4836\n",
            "Epoch 34/100\n",
            "313/313 [==============================] - 1s 4ms/step - loss: 1.3845 - accuracy: 0.5099 - val_loss: 1.4553 - val_accuracy: 0.4848\n",
            "Epoch 35/100\n",
            "313/313 [==============================] - 2s 5ms/step - loss: 1.3788 - accuracy: 0.5121 - val_loss: 1.4524 - val_accuracy: 0.4840\n",
            "Epoch 36/100\n",
            "313/313 [==============================] - 2s 5ms/step - loss: 1.3704 - accuracy: 0.5125 - val_loss: 1.4644 - val_accuracy: 0.4813\n",
            "Epoch 37/100\n",
            "313/313 [==============================] - 2s 6ms/step - loss: 1.3760 - accuracy: 0.5107 - val_loss: 1.4564 - val_accuracy: 0.4899\n",
            "Epoch 38/100\n",
            "313/313 [==============================] - 2s 5ms/step - loss: 1.3693 - accuracy: 0.5156 - val_loss: 1.4609 - val_accuracy: 0.4859\n",
            "Epoch 39/100\n",
            "313/313 [==============================] - 2s 5ms/step - loss: 1.3673 - accuracy: 0.5148 - val_loss: 1.4597 - val_accuracy: 0.4905\n",
            "Epoch 40/100\n",
            "313/313 [==============================] - 2s 5ms/step - loss: 1.3563 - accuracy: 0.5163 - val_loss: 1.4662 - val_accuracy: 0.4873\n",
            "Epoch 41/100\n",
            "313/313 [==============================] - 2s 5ms/step - loss: 1.3529 - accuracy: 0.5224 - val_loss: 1.4543 - val_accuracy: 0.4878\n",
            "Epoch 42/100\n",
            "313/313 [==============================] - 2s 5ms/step - loss: 1.3484 - accuracy: 0.5210 - val_loss: 1.4519 - val_accuracy: 0.4912\n",
            "Epoch 43/100\n",
            "313/313 [==============================] - 1s 5ms/step - loss: 1.3499 - accuracy: 0.5245 - val_loss: 1.4537 - val_accuracy: 0.4843\n",
            "Epoch 44/100\n",
            "313/313 [==============================] - 2s 6ms/step - loss: 1.3503 - accuracy: 0.5205 - val_loss: 1.4506 - val_accuracy: 0.4868\n",
            "Epoch 45/100\n",
            "313/313 [==============================] - 2s 6ms/step - loss: 1.3425 - accuracy: 0.5243 - val_loss: 1.4456 - val_accuracy: 0.4914\n",
            "Epoch 46/100\n",
            "313/313 [==============================] - 2s 5ms/step - loss: 1.3316 - accuracy: 0.5303 - val_loss: 1.4495 - val_accuracy: 0.4914\n",
            "Epoch 47/100\n",
            "313/313 [==============================] - 1s 5ms/step - loss: 1.3316 - accuracy: 0.5281 - val_loss: 1.4507 - val_accuracy: 0.4910\n",
            "Epoch 48/100\n",
            "313/313 [==============================] - 1s 4ms/step - loss: 1.3400 - accuracy: 0.5266 - val_loss: 1.4455 - val_accuracy: 0.4872\n",
            "Epoch 49/100\n",
            "313/313 [==============================] - 1s 5ms/step - loss: 1.3343 - accuracy: 0.5280 - val_loss: 1.4458 - val_accuracy: 0.4890\n",
            "Epoch 50/100\n",
            "313/313 [==============================] - 2s 5ms/step - loss: 1.3266 - accuracy: 0.5312 - val_loss: 1.4394 - val_accuracy: 0.4907\n"
          ]
        }
      ]
    },
    {
      "cell_type": "markdown",
      "source": [
        "## 2.2 Exercise\n",
        "Change the [activation function of the dense layers (except the last one)](https://www.tensorflow.org/api_docs/python/tf/keras/layers/Dense) to rectified linear unit (ReLU) and the [weight initialization](https://www.tensorflow.org/api_docs/python/tf/keras/initializers) to the theoretically best one. Use the original model's code.\n",
        "\n",
        "Compile and train the model. Inspect the effects of the modifications."
      ],
      "metadata": {
        "id": "zQCDM1o1BBtF"
      }
    },
    {
      "cell_type": "code",
      "source": [
        "model = Sequential()\n",
        "model.add(Dense(128, activation='ReLU', input_shape=(flattened_dim,)))\n",
        "model.add(Dropout(dropout_rate))\n",
        "model.add(Dense(128, activation='ReLU'))\n",
        "model.add(Dense(nb_classes, activation='softmax'))\n",
        "\n",
        "# loss function and optimizer\n",
        "model.compile(loss='categorical_crossentropy', optimizer='adam', metrics=['accuracy'])"
      ],
      "metadata": {
        "id": "YjHAAh-wGu9O"
      },
      "execution_count": 31,
      "outputs": []
    },
    {
      "cell_type": "code",
      "source": [
        "# training\n",
        "network_history = model.fit(X_train, Y_train,\n",
        "                            validation_data=(X_valid,Y_valid),\n",
        "                            batch_size=128,\n",
        "                            epochs=40,\n",
        "                            verbose=1,\n",
        "                            callbacks = [es]\n",
        "                            )"
      ],
      "metadata": {
        "id": "rarwKM1wGxMz",
        "colab": {
          "base_uri": "https://localhost:8080/"
        },
        "outputId": "1c336bdf-4e7a-4dcb-b795-7ccee2529a6c"
      },
      "execution_count": 32,
      "outputs": [
        {
          "output_type": "stream",
          "name": "stdout",
          "text": [
            "Epoch 1/40\n",
            "313/313 [==============================] - 3s 6ms/step - loss: 1.9292 - accuracy: 0.3361 - val_loss: 1.6579 - val_accuracy: 0.4192\n",
            "Epoch 2/40\n",
            "313/313 [==============================] - 1s 5ms/step - loss: 1.7025 - accuracy: 0.3981 - val_loss: 1.5627 - val_accuracy: 0.4502\n",
            "Epoch 3/40\n",
            "313/313 [==============================] - 2s 6ms/step - loss: 1.6107 - accuracy: 0.4312 - val_loss: 1.5296 - val_accuracy: 0.4638\n",
            "Epoch 4/40\n",
            "313/313 [==============================] - 1s 5ms/step - loss: 1.5521 - accuracy: 0.4534 - val_loss: 1.4962 - val_accuracy: 0.4720\n",
            "Epoch 5/40\n",
            "313/313 [==============================] - 2s 5ms/step - loss: 1.5030 - accuracy: 0.4680 - val_loss: 1.4675 - val_accuracy: 0.4874\n",
            "Epoch 6/40\n",
            "313/313 [==============================] - 1s 5ms/step - loss: 1.4714 - accuracy: 0.4793 - val_loss: 1.4516 - val_accuracy: 0.4867\n",
            "Epoch 7/40\n",
            "313/313 [==============================] - 2s 5ms/step - loss: 1.4409 - accuracy: 0.4877 - val_loss: 1.4344 - val_accuracy: 0.4966\n",
            "Epoch 8/40\n",
            "313/313 [==============================] - 2s 5ms/step - loss: 1.4156 - accuracy: 0.5003 - val_loss: 1.4238 - val_accuracy: 0.5020\n",
            "Epoch 9/40\n",
            "313/313 [==============================] - 1s 4ms/step - loss: 1.3937 - accuracy: 0.5039 - val_loss: 1.4010 - val_accuracy: 0.5049\n",
            "Epoch 10/40\n",
            "313/313 [==============================] - 2s 5ms/step - loss: 1.3708 - accuracy: 0.5117 - val_loss: 1.3995 - val_accuracy: 0.5033\n",
            "Epoch 11/40\n",
            "313/313 [==============================] - 2s 6ms/step - loss: 1.3521 - accuracy: 0.5200 - val_loss: 1.3856 - val_accuracy: 0.5126\n",
            "Epoch 12/40\n",
            "313/313 [==============================] - 2s 5ms/step - loss: 1.3310 - accuracy: 0.5297 - val_loss: 1.3829 - val_accuracy: 0.5150\n",
            "Epoch 13/40\n",
            "313/313 [==============================] - 1s 5ms/step - loss: 1.3124 - accuracy: 0.5324 - val_loss: 1.3734 - val_accuracy: 0.5138\n",
            "Epoch 14/40\n",
            "313/313 [==============================] - 2s 5ms/step - loss: 1.2999 - accuracy: 0.5388 - val_loss: 1.3844 - val_accuracy: 0.5182\n",
            "Epoch 15/40\n",
            "313/313 [==============================] - 2s 5ms/step - loss: 1.2862 - accuracy: 0.5427 - val_loss: 1.3579 - val_accuracy: 0.5273\n",
            "Epoch 16/40\n",
            "313/313 [==============================] - 2s 5ms/step - loss: 1.2738 - accuracy: 0.5453 - val_loss: 1.3694 - val_accuracy: 0.5238\n",
            "Epoch 17/40\n",
            "313/313 [==============================] - 2s 5ms/step - loss: 1.2603 - accuracy: 0.5510 - val_loss: 1.3731 - val_accuracy: 0.5217\n",
            "Epoch 18/40\n",
            "313/313 [==============================] - 2s 6ms/step - loss: 1.2481 - accuracy: 0.5580 - val_loss: 1.3490 - val_accuracy: 0.5279\n",
            "Epoch 19/40\n",
            "313/313 [==============================] - 2s 6ms/step - loss: 1.2391 - accuracy: 0.5624 - val_loss: 1.3604 - val_accuracy: 0.5246\n",
            "Epoch 20/40\n",
            "313/313 [==============================] - 1s 5ms/step - loss: 1.2189 - accuracy: 0.5657 - val_loss: 1.3608 - val_accuracy: 0.5215\n",
            "Epoch 21/40\n",
            "313/313 [==============================] - 2s 5ms/step - loss: 1.2144 - accuracy: 0.5685 - val_loss: 1.3787 - val_accuracy: 0.5203\n",
            "Epoch 22/40\n",
            "313/313 [==============================] - 1s 5ms/step - loss: 1.1964 - accuracy: 0.5742 - val_loss: 1.3563 - val_accuracy: 0.5242\n",
            "Epoch 23/40\n",
            "313/313 [==============================] - 2s 5ms/step - loss: 1.1891 - accuracy: 0.5766 - val_loss: 1.3890 - val_accuracy: 0.5124\n"
          ]
        }
      ]
    },
    {
      "cell_type": "markdown",
      "source": [
        "# 2.3. Exercise\n",
        "Based on the modifications above, and by any further modifications (e.g. more layers, less layers, more neurons/layer, etc.) to the model design, find a combination that is able to achieve **validation accuracy, that is higher than 53%**.\n"
      ],
      "metadata": {
        "id": "j1tGVPdD-pp3"
      }
    },
    {
      "cell_type": "code",
      "source": [
        "es = EarlyStopping(monitor='val_accuracy', patience=8, restore_best_weights=True)"
      ],
      "metadata": {
        "id": "5dBQxJHIHrbd"
      },
      "execution_count": 33,
      "outputs": []
    },
    {
      "cell_type": "code",
      "source": [
        "# model definition\n",
        "dropout_rate = 0.3\n",
        "model = Sequential()\n",
        "model.add(Dense(256, activation='selu', kernel_initializer = 'lecun_normal', input_shape=(flattened_dim,)))\n",
        "model.add(Dropout(dropout_rate))\n",
        "model.add(Dense(128, activation='selu', kernel_initializer = 'lecun_normal'))\n",
        "model.add(Dropout(dropout_rate))\n",
        "model.add(Dense(128, activation='selu', kernel_initializer = 'lecun_normal'))\n",
        "model.add(Dense(nb_classes, activation='softmax'))\n",
        "\n",
        "\n",
        "# loss function and optimizer\n",
        "model.compile(loss='categorical_crossentropy', optimizer='adam', metrics=['accuracy'])"
      ],
      "metadata": {
        "id": "PuxHOqLt-3Nd"
      },
      "execution_count": 34,
      "outputs": []
    },
    {
      "cell_type": "code",
      "source": [
        "# training\n",
        "network_history = model.fit(X_train, Y_train,\n",
        "                            validation_data=(X_valid,Y_valid),\n",
        "                            batch_size=128,\n",
        "                            epochs=100,\n",
        "                            verbose=1,\n",
        "                            callbacks=[es])"
      ],
      "metadata": {
        "id": "u8tFNCNVHyt9",
        "colab": {
          "base_uri": "https://localhost:8080/"
        },
        "outputId": "40bfdb56-a5a5-4c3d-b36e-966bbf453c66"
      },
      "execution_count": 35,
      "outputs": [
        {
          "output_type": "stream",
          "name": "stdout",
          "text": [
            "Epoch 1/100\n",
            "313/313 [==============================] - 4s 7ms/step - loss: 2.1854 - accuracy: 0.3001 - val_loss: 1.6451 - val_accuracy: 0.4091\n",
            "Epoch 2/100\n",
            "313/313 [==============================] - 2s 6ms/step - loss: 1.7906 - accuracy: 0.3701 - val_loss: 1.5569 - val_accuracy: 0.4336\n",
            "Epoch 3/100\n",
            "313/313 [==============================] - 2s 8ms/step - loss: 1.6712 - accuracy: 0.4062 - val_loss: 1.5082 - val_accuracy: 0.4583\n",
            "Epoch 4/100\n",
            "313/313 [==============================] - 2s 6ms/step - loss: 1.5931 - accuracy: 0.4306 - val_loss: 1.4633 - val_accuracy: 0.4750\n",
            "Epoch 5/100\n",
            "313/313 [==============================] - 2s 6ms/step - loss: 1.5390 - accuracy: 0.4493 - val_loss: 1.4311 - val_accuracy: 0.4848\n",
            "Epoch 6/100\n",
            "313/313 [==============================] - 2s 5ms/step - loss: 1.4932 - accuracy: 0.4660 - val_loss: 1.4168 - val_accuracy: 0.4891\n",
            "Epoch 7/100\n",
            "313/313 [==============================] - 2s 5ms/step - loss: 1.4518 - accuracy: 0.4814 - val_loss: 1.3916 - val_accuracy: 0.4994\n",
            "Epoch 8/100\n",
            "313/313 [==============================] - 2s 6ms/step - loss: 1.4216 - accuracy: 0.4890 - val_loss: 1.3805 - val_accuracy: 0.5035\n",
            "Epoch 9/100\n",
            "313/313 [==============================] - 2s 7ms/step - loss: 1.3978 - accuracy: 0.4992 - val_loss: 1.3650 - val_accuracy: 0.5124\n",
            "Epoch 10/100\n",
            "313/313 [==============================] - 2s 6ms/step - loss: 1.3730 - accuracy: 0.5060 - val_loss: 1.3733 - val_accuracy: 0.5060\n",
            "Epoch 11/100\n",
            "313/313 [==============================] - 2s 7ms/step - loss: 1.3510 - accuracy: 0.5147 - val_loss: 1.3425 - val_accuracy: 0.5170\n",
            "Epoch 12/100\n",
            "313/313 [==============================] - 2s 7ms/step - loss: 1.3333 - accuracy: 0.5232 - val_loss: 1.3388 - val_accuracy: 0.5210\n",
            "Epoch 13/100\n",
            "313/313 [==============================] - 2s 5ms/step - loss: 1.3140 - accuracy: 0.5301 - val_loss: 1.3249 - val_accuracy: 0.5286\n",
            "Epoch 14/100\n",
            "313/313 [==============================] - 2s 5ms/step - loss: 1.2898 - accuracy: 0.5406 - val_loss: 1.3106 - val_accuracy: 0.5311\n",
            "Epoch 15/100\n",
            "313/313 [==============================] - 2s 5ms/step - loss: 1.2774 - accuracy: 0.5433 - val_loss: 1.3206 - val_accuracy: 0.5309\n",
            "Epoch 16/100\n",
            "313/313 [==============================] - 2s 8ms/step - loss: 1.2644 - accuracy: 0.5458 - val_loss: 1.3146 - val_accuracy: 0.5330\n",
            "Epoch 17/100\n",
            "313/313 [==============================] - 2s 5ms/step - loss: 1.2534 - accuracy: 0.5511 - val_loss: 1.3005 - val_accuracy: 0.5385\n",
            "Epoch 18/100\n",
            "313/313 [==============================] - 2s 8ms/step - loss: 1.2321 - accuracy: 0.5589 - val_loss: 1.3250 - val_accuracy: 0.5297\n",
            "Epoch 19/100\n",
            "313/313 [==============================] - 2s 5ms/step - loss: 1.2231 - accuracy: 0.5638 - val_loss: 1.3115 - val_accuracy: 0.5312\n",
            "Epoch 20/100\n",
            "313/313 [==============================] - 2s 6ms/step - loss: 1.2115 - accuracy: 0.5639 - val_loss: 1.2943 - val_accuracy: 0.5426\n",
            "Epoch 21/100\n",
            "313/313 [==============================] - 2s 5ms/step - loss: 1.1960 - accuracy: 0.5741 - val_loss: 1.3020 - val_accuracy: 0.5399\n",
            "Epoch 22/100\n",
            "313/313 [==============================] - 2s 6ms/step - loss: 1.1815 - accuracy: 0.5753 - val_loss: 1.3072 - val_accuracy: 0.5425\n",
            "Epoch 23/100\n",
            "313/313 [==============================] - 2s 6ms/step - loss: 1.1671 - accuracy: 0.5830 - val_loss: 1.3013 - val_accuracy: 0.5392\n",
            "Epoch 24/100\n",
            "313/313 [==============================] - 2s 5ms/step - loss: 1.1571 - accuracy: 0.5860 - val_loss: 1.3046 - val_accuracy: 0.5428\n",
            "Epoch 25/100\n",
            "313/313 [==============================] - 2s 5ms/step - loss: 1.1449 - accuracy: 0.5909 - val_loss: 1.2983 - val_accuracy: 0.5465\n",
            "Epoch 26/100\n",
            "313/313 [==============================] - 2s 5ms/step - loss: 1.1402 - accuracy: 0.5928 - val_loss: 1.3131 - val_accuracy: 0.5398\n",
            "Epoch 27/100\n",
            "313/313 [==============================] - 2s 5ms/step - loss: 1.1259 - accuracy: 0.5996 - val_loss: 1.3019 - val_accuracy: 0.5405\n",
            "Epoch 28/100\n",
            "313/313 [==============================] - 2s 5ms/step - loss: 1.1186 - accuracy: 0.5994 - val_loss: 1.3016 - val_accuracy: 0.5428\n",
            "Epoch 29/100\n",
            "313/313 [==============================] - 2s 6ms/step - loss: 1.0990 - accuracy: 0.6083 - val_loss: 1.3033 - val_accuracy: 0.5461\n",
            "Epoch 30/100\n",
            "313/313 [==============================] - 2s 6ms/step - loss: 1.1072 - accuracy: 0.6036 - val_loss: 1.3041 - val_accuracy: 0.5465\n",
            "Epoch 31/100\n",
            "313/313 [==============================] - 2s 5ms/step - loss: 1.0905 - accuracy: 0.6079 - val_loss: 1.2932 - val_accuracy: 0.5487\n",
            "Epoch 32/100\n",
            "313/313 [==============================] - 2s 5ms/step - loss: 1.0741 - accuracy: 0.6165 - val_loss: 1.2920 - val_accuracy: 0.5489\n",
            "Epoch 33/100\n",
            "313/313 [==============================] - 2s 6ms/step - loss: 1.0687 - accuracy: 0.6193 - val_loss: 1.3099 - val_accuracy: 0.5399\n",
            "Epoch 34/100\n",
            "313/313 [==============================] - 2s 6ms/step - loss: 1.0605 - accuracy: 0.6209 - val_loss: 1.3006 - val_accuracy: 0.5439\n",
            "Epoch 35/100\n",
            "313/313 [==============================] - 2s 5ms/step - loss: 1.0559 - accuracy: 0.6227 - val_loss: 1.3049 - val_accuracy: 0.5478\n",
            "Epoch 36/100\n",
            "313/313 [==============================] - 2s 5ms/step - loss: 1.0427 - accuracy: 0.6297 - val_loss: 1.3050 - val_accuracy: 0.5465\n",
            "Epoch 37/100\n",
            "313/313 [==============================] - 2s 7ms/step - loss: 1.0339 - accuracy: 0.6327 - val_loss: 1.3057 - val_accuracy: 0.5459\n",
            "Epoch 38/100\n",
            "313/313 [==============================] - 2s 5ms/step - loss: 1.0257 - accuracy: 0.6367 - val_loss: 1.3224 - val_accuracy: 0.5479\n",
            "Epoch 39/100\n",
            "313/313 [==============================] - 2s 5ms/step - loss: 1.0202 - accuracy: 0.6379 - val_loss: 1.3172 - val_accuracy: 0.5494\n",
            "Epoch 40/100\n",
            "313/313 [==============================] - 2s 5ms/step - loss: 1.0155 - accuracy: 0.6376 - val_loss: 1.3012 - val_accuracy: 0.5536\n",
            "Epoch 41/100\n",
            "313/313 [==============================] - 2s 5ms/step - loss: 1.0049 - accuracy: 0.6419 - val_loss: 1.3192 - val_accuracy: 0.5525\n",
            "Epoch 42/100\n",
            "313/313 [==============================] - 2s 5ms/step - loss: 1.0017 - accuracy: 0.6421 - val_loss: 1.2918 - val_accuracy: 0.5534\n",
            "Epoch 43/100\n",
            "313/313 [==============================] - 2s 5ms/step - loss: 0.9912 - accuracy: 0.6493 - val_loss: 1.3088 - val_accuracy: 0.5465\n",
            "Epoch 44/100\n",
            "313/313 [==============================] - 2s 6ms/step - loss: 0.9896 - accuracy: 0.6485 - val_loss: 1.2959 - val_accuracy: 0.5539\n",
            "Epoch 45/100\n",
            "313/313 [==============================] - 2s 6ms/step - loss: 0.9798 - accuracy: 0.6524 - val_loss: 1.3234 - val_accuracy: 0.5463\n",
            "Epoch 46/100\n",
            "313/313 [==============================] - 2s 5ms/step - loss: 0.9619 - accuracy: 0.6573 - val_loss: 1.3075 - val_accuracy: 0.5566\n",
            "Epoch 47/100\n",
            "313/313 [==============================] - 2s 5ms/step - loss: 0.9608 - accuracy: 0.6585 - val_loss: 1.3097 - val_accuracy: 0.5528\n",
            "Epoch 48/100\n",
            "313/313 [==============================] - 2s 5ms/step - loss: 0.9653 - accuracy: 0.6538 - val_loss: 1.3123 - val_accuracy: 0.5494\n",
            "Epoch 49/100\n",
            "313/313 [==============================] - 1s 5ms/step - loss: 0.9636 - accuracy: 0.6573 - val_loss: 1.3194 - val_accuracy: 0.5513\n",
            "Epoch 50/100\n",
            "313/313 [==============================] - 2s 5ms/step - loss: 0.9516 - accuracy: 0.6626 - val_loss: 1.3269 - val_accuracy: 0.5505\n",
            "Epoch 51/100\n",
            "313/313 [==============================] - 2s 5ms/step - loss: 0.9461 - accuracy: 0.6635 - val_loss: 1.3297 - val_accuracy: 0.5464\n",
            "Epoch 52/100\n",
            "313/313 [==============================] - 2s 6ms/step - loss: 0.9323 - accuracy: 0.6680 - val_loss: 1.3321 - val_accuracy: 0.5493\n",
            "Epoch 53/100\n",
            "313/313 [==============================] - 2s 5ms/step - loss: 0.9333 - accuracy: 0.6672 - val_loss: 1.3279 - val_accuracy: 0.5471\n",
            "Epoch 54/100\n",
            "313/313 [==============================] - 2s 5ms/step - loss: 0.9247 - accuracy: 0.6708 - val_loss: 1.3187 - val_accuracy: 0.5505\n"
          ]
        }
      ]
    },
    {
      "cell_type": "markdown",
      "source": [
        "# 3. Evaluation on test data and inference\n",
        "At this point, we will perform a basic evaluation and inference. With the model.evaluate function, the same metrics are calculated, that were used during training:"
      ],
      "metadata": {
        "id": "2FtKp-a2-A9m"
      }
    },
    {
      "cell_type": "code",
      "source": [
        "print(model.evaluate(X_test, Y_test))"
      ],
      "metadata": {
        "id": "I3_9wgDREUna",
        "colab": {
          "base_uri": "https://localhost:8080/"
        },
        "outputId": "2f28c06f-4c8f-490c-eb9c-9e13ddd9677a"
      },
      "execution_count": 36,
      "outputs": [
        {
          "output_type": "stream",
          "name": "stdout",
          "text": [
            "313/313 [==============================] - 1s 2ms/step - loss: 1.3262 - accuracy: 0.5412\n",
            "[1.32615065574646, 0.5411999821662903]\n"
          ]
        }
      ]
    },
    {
      "cell_type": "markdown",
      "source": [
        "we would like to see similar values, as in the validation set. If those are close to each other, then the generalization ability of the model is good (in case of an independent test-set)."
      ],
      "metadata": {
        "id": "ECHguBFtGL7f"
      }
    },
    {
      "cell_type": "markdown",
      "source": [
        "## 3.1. Exercise\n",
        "Predict the class of the first 10 elements in the test set, and compare the predicted values with the actual, target values in the test set. Hints:\n",
        "* you can use [model.predict](https://www.activestate.com/resources/quick-reads/how-to-use-a-model-to-do-predictions-with-keras/) for prediction\n",
        "* from the output you can select the largest value with the [argmax() function of Numpy](https://stackoverflow.com/questions/62358642/convert-one-hot-encoding-back-to-number-label). As there are multiple values, you have to call it with axis=1 parameter.\n",
        "* it is enought to compare the predictions and the targets by printing the values out and inspecting them."
      ],
      "metadata": {
        "id": "0Io4zYJeHjz6"
      }
    },
    {
      "cell_type": "code",
      "source": [
        "preds = model.predict(X_test[:10])\n",
        "preds_dense = np.argmax(preds, axis=1)"
      ],
      "metadata": {
        "id": "XEEyU7exILqF",
        "colab": {
          "base_uri": "https://localhost:8080/"
        },
        "outputId": "7e17cbbc-7741-4a5f-e7b3-c386b3b1a227"
      },
      "execution_count": 37,
      "outputs": [
        {
          "output_type": "stream",
          "name": "stdout",
          "text": [
            "1/1 [==============================] - 0s 127ms/step\n"
          ]
        }
      ]
    },
    {
      "cell_type": "markdown",
      "source": [
        "Before comparision, you have to convert back the one-hot encoded target values the same way, as you converted the output of the neural network to class values with argmax() function."
      ],
      "metadata": {
        "id": "seZTEFI-I5cZ"
      }
    },
    {
      "cell_type": "code",
      "source": [
        "print(\"Target labels:\", np.argmax(Y_test[:10],axis=1))\n",
        "print(\"Predicted labels:\", preds_dense)"
      ],
      "metadata": {
        "id": "PHLvoMuIIkJ6",
        "colab": {
          "base_uri": "https://localhost:8080/"
        },
        "outputId": "69a481cd-869b-4a63-9655-a5d057e09c98"
      },
      "execution_count": 38,
      "outputs": [
        {
          "output_type": "stream",
          "name": "stdout",
          "text": [
            "Target labels: [3 8 8 0 6 6 1 6 3 1]\n",
            "Predicted labels: [3 9 8 0 4 6 3 6 4 1]\n"
          ]
        }
      ]
    }
  ]
}